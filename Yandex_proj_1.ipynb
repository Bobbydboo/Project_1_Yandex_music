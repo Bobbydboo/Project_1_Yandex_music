{
 "cells": [
  {
   "cell_type": "markdown",
   "metadata": {
    "id": "E0vqbgi9ay0H"
   },
   "source": [
    "# Яндекс.Музыка"
   ]
  },
  {
   "cell_type": "markdown",
   "metadata": {
    "id": "VUC88oWjTJw2"
   },
   "source": [
    "Сравнение Москвы и Петербурга окружено мифами. Например:\n",
    " * Москва — мегаполис, подчинённый жёсткому ритму рабочей недели;\n",
    " * Петербург — культурная столица, со своими вкусами.\n",
    "\n",
    "На данных Яндекс.Музыки вы сравните поведение пользователей двух столиц.\n",
    "\n",
    "**Цель исследования** — проверьте три гипотезы:\n",
    "1. Активность пользователей зависит от дня недели. Причём в Москве и Петербурге это проявляется по-разному.\n",
    "2. В понедельник утром в Москве преобладают одни жанры, а в Петербурге — другие. Так же и вечером пятницы преобладают разные жанры — в зависимости от города. \n",
    "3. Москва и Петербург предпочитают разные жанры музыки. В Москве чаще слушают поп-музыку, в Петербурге — русский рэп.\n",
    "\n",
    "**Ход исследования**\n",
    "\n",
    "Данные о поведении пользователей вы получите из файла `yandex_music_project.csv`. О качестве данных ничего не известно. Поэтому перед проверкой гипотез понадобится обзор данных. \n",
    "\n",
    "Вы проверите данные на ошибки и оцените их влияние на исследование. Затем, на этапе предобработки вы поищете возможность исправить самые критичные ошибки данных.\n",
    " \n",
    "Таким образом, исследование пройдёт в три этапа:\n",
    " 1. Обзор данных.\n",
    " 2. Предобработка данных.\n",
    " 3. Проверка гипотез.\n",
    "\n"
   ]
  },
  {
   "cell_type": "markdown",
   "metadata": {
    "id": "Ml1hmfXC_Zcs"
   },
   "source": [
    "## Обзор данных\n",
    "\n",
    "Составьте первое представление о данных Яндекс.Музыки.\n",
    "\n",
    "\n"
   ]
  },
  {
   "cell_type": "markdown",
   "metadata": {
    "id": "57eAOGIz_Zcs"
   },
   "source": [
    "Основной инструмент аналитика — `pandas`. Импортируйте эту библиотеку."
   ]
  },
  {
   "cell_type": "code",
   "execution_count": 1,
   "metadata": {
    "id": "AXN7PHPN_Zcs"
   },
   "outputs": [],
   "source": [
    "import pandas as pd# импорт библиотеки pandas"
   ]
  },
  {
   "cell_type": "markdown",
   "metadata": {
    "id": "SG23P8tt_Zcs"
   },
   "source": [
    "Прочитайте файл `yandex_music_project.csv` из папки `/datasets` и сохраните его в переменной `df`:"
   ]
  },
  {
   "cell_type": "code",
   "execution_count": 22,
   "metadata": {
    "id": "fFVu7vqh_Zct"
   },
   "outputs": [],
   "source": [
    "df=pd.read_csv(r'C:\\Users\\Admin\\Desktop\\Яндек-проекты\\Проект вводный\\yandex_music_project.csv',parse_dates=True)# чтение файла с данными и сохранение в df"
   ]
  },
  {
   "cell_type": "markdown",
   "metadata": {
    "id": "rDoOMd3uTqnZ"
   },
   "source": [
    "Выведите на экран первые десять строк таблицы:"
   ]
  },
  {
   "cell_type": "code",
   "execution_count": 23,
   "metadata": {
    "id": "oWTVX3gW_Zct"
   },
   "outputs": [
    {
     "data": {
      "text/html": [
       "<div>\n",
       "<style scoped>\n",
       "    .dataframe tbody tr th:only-of-type {\n",
       "        vertical-align: middle;\n",
       "    }\n",
       "\n",
       "    .dataframe tbody tr th {\n",
       "        vertical-align: top;\n",
       "    }\n",
       "\n",
       "    .dataframe thead th {\n",
       "        text-align: right;\n",
       "    }\n",
       "</style>\n",
       "<table border=\"1\" class=\"dataframe\">\n",
       "  <thead>\n",
       "    <tr style=\"text-align: right;\">\n",
       "      <th></th>\n",
       "      <th>userID</th>\n",
       "      <th>Track</th>\n",
       "      <th>artist</th>\n",
       "      <th>genre</th>\n",
       "      <th>City</th>\n",
       "      <th>time</th>\n",
       "      <th>Day</th>\n",
       "    </tr>\n",
       "  </thead>\n",
       "  <tbody>\n",
       "    <tr>\n",
       "      <th>0</th>\n",
       "      <td>FFB692EC</td>\n",
       "      <td>Kamigata To Boots</td>\n",
       "      <td>The Mass Missile</td>\n",
       "      <td>rock</td>\n",
       "      <td>Saint-Petersburg</td>\n",
       "      <td>20:28:33</td>\n",
       "      <td>Wednesday</td>\n",
       "    </tr>\n",
       "    <tr>\n",
       "      <th>1</th>\n",
       "      <td>55204538</td>\n",
       "      <td>Delayed Because of Accident</td>\n",
       "      <td>Andreas Rönnberg</td>\n",
       "      <td>rock</td>\n",
       "      <td>Moscow</td>\n",
       "      <td>14:07:09</td>\n",
       "      <td>Friday</td>\n",
       "    </tr>\n",
       "    <tr>\n",
       "      <th>2</th>\n",
       "      <td>20EC38</td>\n",
       "      <td>Funiculì funiculà</td>\n",
       "      <td>Mario Lanza</td>\n",
       "      <td>pop</td>\n",
       "      <td>Saint-Petersburg</td>\n",
       "      <td>20:58:07</td>\n",
       "      <td>Wednesday</td>\n",
       "    </tr>\n",
       "    <tr>\n",
       "      <th>3</th>\n",
       "      <td>A3DD03C9</td>\n",
       "      <td>Dragons in the Sunset</td>\n",
       "      <td>Fire + Ice</td>\n",
       "      <td>folk</td>\n",
       "      <td>Saint-Petersburg</td>\n",
       "      <td>08:37:09</td>\n",
       "      <td>Monday</td>\n",
       "    </tr>\n",
       "    <tr>\n",
       "      <th>4</th>\n",
       "      <td>E2DC1FAE</td>\n",
       "      <td>Soul People</td>\n",
       "      <td>Space Echo</td>\n",
       "      <td>dance</td>\n",
       "      <td>Moscow</td>\n",
       "      <td>08:34:34</td>\n",
       "      <td>Monday</td>\n",
       "    </tr>\n",
       "    <tr>\n",
       "      <th>5</th>\n",
       "      <td>842029A1</td>\n",
       "      <td>Преданная</td>\n",
       "      <td>IMPERVTOR</td>\n",
       "      <td>rusrap</td>\n",
       "      <td>Saint-Petersburg</td>\n",
       "      <td>13:09:41</td>\n",
       "      <td>Friday</td>\n",
       "    </tr>\n",
       "    <tr>\n",
       "      <th>6</th>\n",
       "      <td>4CB90AA5</td>\n",
       "      <td>True</td>\n",
       "      <td>Roman Messer</td>\n",
       "      <td>dance</td>\n",
       "      <td>Moscow</td>\n",
       "      <td>13:00:07</td>\n",
       "      <td>Wednesday</td>\n",
       "    </tr>\n",
       "    <tr>\n",
       "      <th>7</th>\n",
       "      <td>F03E1C1F</td>\n",
       "      <td>Feeling This Way</td>\n",
       "      <td>Polina Griffith</td>\n",
       "      <td>dance</td>\n",
       "      <td>Moscow</td>\n",
       "      <td>20:47:49</td>\n",
       "      <td>Wednesday</td>\n",
       "    </tr>\n",
       "    <tr>\n",
       "      <th>8</th>\n",
       "      <td>8FA1D3BE</td>\n",
       "      <td>И вновь продолжается бой</td>\n",
       "      <td>NaN</td>\n",
       "      <td>ruspop</td>\n",
       "      <td>Moscow</td>\n",
       "      <td>09:17:40</td>\n",
       "      <td>Friday</td>\n",
       "    </tr>\n",
       "    <tr>\n",
       "      <th>9</th>\n",
       "      <td>E772D5C0</td>\n",
       "      <td>Pessimist</td>\n",
       "      <td>NaN</td>\n",
       "      <td>dance</td>\n",
       "      <td>Saint-Petersburg</td>\n",
       "      <td>21:20:49</td>\n",
       "      <td>Wednesday</td>\n",
       "    </tr>\n",
       "  </tbody>\n",
       "</table>\n",
       "</div>"
      ],
      "text/plain": [
       "     userID                        Track            artist   genre  \\\n",
       "0  FFB692EC            Kamigata To Boots  The Mass Missile    rock   \n",
       "1  55204538  Delayed Because of Accident  Andreas Rönnberg    rock   \n",
       "2    20EC38            Funiculì funiculà       Mario Lanza     pop   \n",
       "3  A3DD03C9        Dragons in the Sunset        Fire + Ice    folk   \n",
       "4  E2DC1FAE                  Soul People        Space Echo   dance   \n",
       "5  842029A1                    Преданная         IMPERVTOR  rusrap   \n",
       "6  4CB90AA5                         True      Roman Messer   dance   \n",
       "7  F03E1C1F             Feeling This Way   Polina Griffith   dance   \n",
       "8  8FA1D3BE     И вновь продолжается бой               NaN  ruspop   \n",
       "9  E772D5C0                    Pessimist               NaN   dance   \n",
       "\n",
       "             City        time        Day  \n",
       "0  Saint-Petersburg  20:28:33  Wednesday  \n",
       "1            Moscow  14:07:09     Friday  \n",
       "2  Saint-Petersburg  20:58:07  Wednesday  \n",
       "3  Saint-Petersburg  08:37:09     Monday  \n",
       "4            Moscow  08:34:34     Monday  \n",
       "5  Saint-Petersburg  13:09:41     Friday  \n",
       "6            Moscow  13:00:07  Wednesday  \n",
       "7            Moscow  20:47:49  Wednesday  \n",
       "8            Moscow  09:17:40     Friday  \n",
       "9  Saint-Petersburg  21:20:49  Wednesday  "
      ]
     },
     "metadata": {},
     "output_type": "display_data"
    }
   ],
   "source": [
    "display(df.head(10))# получение первых 10 строк таблицы df"
   ]
  },
  {
   "cell_type": "markdown",
   "metadata": {
    "id": "EO73Kwic_Zct"
   },
   "source": [
    "Одной командой получить общую информацию о таблице:"
   ]
  },
  {
   "cell_type": "code",
   "execution_count": 24,
   "metadata": {
    "id": "DSf2kIb-_Zct"
   },
   "outputs": [
    {
     "name": "stdout",
     "output_type": "stream",
     "text": [
      "<class 'pandas.core.frame.DataFrame'>\n",
      "RangeIndex: 65079 entries, 0 to 65078\n",
      "Data columns (total 7 columns):\n",
      " #   Column    Non-Null Count  Dtype \n",
      "---  ------    --------------  ----- \n",
      " 0     userID  65079 non-null  object\n",
      " 1   Track     63848 non-null  object\n",
      " 2   artist    57876 non-null  object\n",
      " 3   genre     63881 non-null  object\n",
      " 4     City    65079 non-null  object\n",
      " 5   time      65079 non-null  object\n",
      " 6   Day       65079 non-null  object\n",
      "dtypes: object(7)\n",
      "memory usage: 3.5+ MB\n"
     ]
    }
   ],
   "source": [
    "df.info()# получение общей информации о данных в таблице df"
   ]
  },
  {
   "cell_type": "markdown",
   "metadata": {
    "id": "TaQ2Iwbr_Zct"
   },
   "source": [
    "Итак, в таблице семь столбцов. Тип данных во всех столбцах — `object`.\n",
    "\n",
    "Согласно документации к данным:\n",
    "* `userID` — идентификатор пользователя;\n",
    "* `Track` — название трека;  \n",
    "* `artist` — имя исполнителя;\n",
    "* `genre` — название жанра;\n",
    "* `City` — город пользователя;\n",
    "* `time` — время начала прослушивания;\n",
    "* `Day` — день недели.\n",
    "\n",
    "В названиях колонок видны три нарушения стиля:\n",
    "1. Строчные буквы сочетаются с прописными.\n",
    "2. Встречаются пробелы.\n",
    "3. __Найдите ещё одну проблему в названии колонок и опишите её в этом пункте.\n",
    "Класс - объект\n",
    "\n",
    "\n",
    "Количество значений в столбцах различается. Значит, в данных есть пропущенные значения.\n"
   ]
  },
  {
   "cell_type": "markdown",
   "metadata": {
    "id": "MCB6-dXG_Zct"
   },
   "source": [
    "**Выводы**\n",
    "\n",
    "В каждой строке таблицы — данные о прослушанном треке. Часть колонок описывает саму композицию: название, исполнителя и жанр. Остальные данные рассказывают о пользователе: из какого он города, когда он слушал музыку. \n",
    "\n",
    "Предварительно можно утверждать, что, данных достаточно для проверки гипотез. Но встречаются пропуски в данных, а в названиях колонок — расхождения с хорошим стилем. \n",
    "\n",
    "Чтобы двигаться дальше, нужно устранить проблемы в данных."
   ]
  },
  {
   "cell_type": "markdown",
   "metadata": {
    "id": "SjYF6Ub9_Zct"
   },
   "source": [
    "## Предобработка данных\n",
    "Исправьте стиль в заголовках столбцов, исключите пропуски. Затем проверьте данные на дубликаты."
   ]
  },
  {
   "cell_type": "markdown",
   "metadata": {
    "id": "dIaKXr29_Zct"
   },
   "source": [
    "### Стиль заголовков\n",
    "Выведите на экран названия столбцов:"
   ]
  },
  {
   "cell_type": "code",
   "execution_count": 25,
   "metadata": {
    "id": "oKOTdF_Q_Zct"
   },
   "outputs": [
    {
     "data": {
      "text/plain": [
       "Index(['  userID', 'Track', 'artist', 'genre', '  City  ', 'time', 'Day'], dtype='object')"
      ]
     },
     "execution_count": 25,
     "metadata": {},
     "output_type": "execute_result"
    }
   ],
   "source": [
    "df.columns# перечень названий столбцов таблицы df"
   ]
  },
  {
   "cell_type": "markdown",
   "metadata": {
    "id": "zj5534cv_Zct"
   },
   "source": [
    "Приведите названия в соответствие с хорошим стилем:\n",
    "* несколько слов в названии запишите в «змеином_регистре»,\n",
    "* все символы сделайте строчными,\n",
    "* устраните пробелы.\n",
    "\n",
    "Для этого переименуйте колонки так:\n",
    "* `'  userID'` → `'user_id'`;\n",
    "* `'Track'` → `'track'`;\n",
    "* `'  City  '` → `'city'`;\n",
    "* `'Day'` → `'day'`."
   ]
  },
  {
   "cell_type": "code",
   "execution_count": 26,
   "metadata": {
    "id": "ISlFqs5y_Zct"
   },
   "outputs": [],
   "source": [
    "df = df.rename( \n",
    " columns={ \n",
    "'  userID': 'user_id', \n",
    "'Track': 'track', \n",
    "'  City  ': 'city', \n",
    "'Day': 'day',\n",
    " } \n",
    ")# переименование столбцов"
   ]
  },
  {
   "cell_type": "markdown",
   "metadata": {
    "id": "1dqbh00J_Zct"
   },
   "source": [
    "Проверьте результат. Для этого ещё раз выведите на экран названия столбцов:"
   ]
  },
  {
   "cell_type": "code",
   "execution_count": 29,
   "metadata": {
    "id": "d4NOAmTW_Zct"
   },
   "outputs": [
    {
     "data": {
      "text/plain": [
       "Index(['user_id', 'track', 'artist', 'genre', 'city', 'time', 'day'], dtype='object')"
      ]
     },
     "execution_count": 29,
     "metadata": {},
     "output_type": "execute_result"
    }
   ],
   "source": [
    "df.columns# проверка результатов - перечень названий столбцов"
   ]
  },
  {
   "cell_type": "markdown",
   "metadata": {
    "id": "5ISfbcfY_Zct"
   },
   "source": [
    "### Пропуски значений\n",
    "Сначала посчитайте, сколько в таблице пропущенных значений. Для этого достаточно двух методов `pandas`:"
   ]
  },
  {
   "cell_type": "code",
   "execution_count": 30,
   "metadata": {
    "id": "RskX29qr_Zct"
   },
   "outputs": [
    {
     "data": {
      "text/plain": [
       "user_id       0\n",
       "track      1231\n",
       "artist     7203\n",
       "genre      1198\n",
       "city          0\n",
       "time          0\n",
       "day           0\n",
       "dtype: int64"
      ]
     },
     "execution_count": 30,
     "metadata": {},
     "output_type": "execute_result"
    }
   ],
   "source": [
    "df.isna()\n",
    "df.isna().sum()# подсчёт пропусков"
   ]
  },
  {
   "cell_type": "markdown",
   "metadata": {
    "id": "qubhgnlO_Zct"
   },
   "source": [
    "Не все пропущенные значения влияют на исследование. Так в `track` и `artist` пропуски не важны для вашей работы. Достаточно заменить их явными обозначениями.\n",
    "\n",
    "Но пропуски в `genre` могут помешать сравнению музыкальных вкусов в Москве и Санкт-Петербурге. На практике было бы правильно установить причину пропусков и восстановить данные. Такой возможности нет в учебном проекте. Придётся:\n",
    "* заполнить и эти пропуски явными обозначениями,\n",
    "* оценить, насколько они повредят расчётам. "
   ]
  },
  {
   "cell_type": "markdown",
   "metadata": {
    "id": "fSv2laPA_Zct"
   },
   "source": [
    "Замените пропущенные значения в столбцах `track`, `artist` и `genre` на строку `'unknown'`. Для этого создайте список `columns_to_replace`, переберите его элементы циклом `for` и для каждого столбца выполните замену пропущенных значений:"
   ]
  },
  {
   "cell_type": "code",
   "execution_count": 31,
   "metadata": {
    "id": "KplB5qWs_Zct"
   },
   "outputs": [],
   "source": [
    "columns_to_replace=['track','artist','genre'] # объявляем список колонок, которые надо заменить\n",
    "for value in columns_to_replace:# заполняем отсутствующие значения столбцов из списка columns_to_replace значением 'unknown' в цикле\n",
    "    df[value] = df[value].fillna('unknown')\n",
    "\n",
    "\n",
    "\n",
    "\n",
    "\n",
    "\n",
    "\n",
    "# перебор названий столбцов в цикле и замена пропущенных значений на 'unknown'"
   ]
  },
  {
   "cell_type": "markdown",
   "metadata": {
    "id": "Ilsm-MZo_Zct"
   },
   "source": [
    "Убедитесь, что в таблице не осталось пропусков. Для этого ещё раз посчитайте пропущенные значения."
   ]
  },
  {
   "cell_type": "code",
   "execution_count": 32,
   "metadata": {
    "id": "Tq4nYRX4_Zct"
   },
   "outputs": [
    {
     "data": {
      "text/plain": [
       "user_id    0\n",
       "track      0\n",
       "artist     0\n",
       "genre      0\n",
       "city       0\n",
       "time       0\n",
       "day        0\n",
       "dtype: int64"
      ]
     },
     "execution_count": 32,
     "metadata": {},
     "output_type": "execute_result"
    }
   ],
   "source": [
    "df.isna()\n",
    "df.isna().sum()\n",
    "# подсчёт пропусков"
   ]
  },
  {
   "cell_type": "markdown",
   "metadata": {
    "id": "BWKRtBJ3_Zct"
   },
   "source": [
    "### Дубликаты\n",
    "Посчитайте явные дубликаты в таблице одной командой:"
   ]
  },
  {
   "cell_type": "code",
   "execution_count": 33,
   "metadata": {
    "id": "36eES_S0_Zct"
   },
   "outputs": [
    {
     "data": {
      "text/plain": [
       "3826"
      ]
     },
     "metadata": {},
     "output_type": "display_data"
    }
   ],
   "source": [
    "display(df.duplicated().sum())# подсчёт явных дубликатов"
   ]
  },
  {
   "cell_type": "markdown",
   "metadata": {
    "id": "Ot25h6XR_Zct"
   },
   "source": [
    "Вызовите специальный метод `pandas`, чтобы удалить явные дубликаты:"
   ]
  },
  {
   "cell_type": "code",
   "execution_count": 34,
   "metadata": {
    "id": "exFHq6tt_Zct"
   },
   "outputs": [],
   "source": [
    "df = df.drop_duplicates().reset_index(drop=True)\n",
    "# удаление явных дубликатов (с удалением старых индексов и формированием новых)"
   ]
  },
  {
   "cell_type": "markdown",
   "metadata": {
    "id": "Im2YwBEG_Zct"
   },
   "source": [
    "Ещё раз посчитайте явные дубликаты в таблице — убедитесь, что полностью от них избавились:"
   ]
  },
  {
   "cell_type": "code",
   "execution_count": 35,
   "metadata": {
    "id": "-8PuNWQ0_Zct"
   },
   "outputs": [
    {
     "data": {
      "text/plain": [
       "0"
      ]
     },
     "metadata": {},
     "output_type": "display_data"
    }
   ],
   "source": [
    "display(df.duplicated().sum())# проверка на отсутствие дубликатов"
   ]
  },
  {
   "cell_type": "markdown",
   "metadata": {
    "id": "QlFBsxAr_Zct"
   },
   "source": [
    "Теперь избавьтесь от неявных дубликатов в колонке `genre`. Например, название одного и того же жанра может быть записано немного по-разному. Такие ошибки тоже повлияют на результат исследования."
   ]
  },
  {
   "cell_type": "markdown",
   "metadata": {
    "id": "eSjWwsOh_Zct"
   },
   "source": [
    "Выведите на экран список уникальных названий жанров, отсортированный в алфавитном порядке. Для этого:\n",
    "* извлеките нужный столбец датафрейма, \n",
    "* примените к нему метод сортировки,\n",
    "* для отсортированного столбца вызовите метод, который вернёт уникальные значения из столбца."
   ]
  },
  {
   "cell_type": "code",
   "execution_count": 36,
   "metadata": {
    "id": "JIUcqzZN_Zct"
   },
   "outputs": [
    {
     "data": {
      "text/plain": [
       "array(['acid', 'acoustic', 'action', 'adult', 'africa', 'afrikaans',\n",
       "       'alternative', 'alternativepunk', 'ambient', 'americana',\n",
       "       'animated', 'anime', 'arabesk', 'arabic', 'arena',\n",
       "       'argentinetango', 'art', 'audiobook', 'author', 'avantgarde',\n",
       "       'axé', 'baile', 'balkan', 'beats', 'bigroom', 'black', 'bluegrass',\n",
       "       'blues', 'bollywood', 'bossa', 'brazilian', 'breakbeat', 'breaks',\n",
       "       'broadway', 'cantautori', 'cantopop', 'canzone', 'caribbean',\n",
       "       'caucasian', 'celtic', 'chamber', 'chanson', 'children', 'chill',\n",
       "       'chinese', 'choral', 'christian', 'christmas', 'classical',\n",
       "       'classicmetal', 'club', 'colombian', 'comedy', 'conjazz',\n",
       "       'contemporary', 'country', 'cuban', 'dance', 'dancehall',\n",
       "       'dancepop', 'dark', 'death', 'deep', 'deutschrock', 'deutschspr',\n",
       "       'dirty', 'disco', 'dnb', 'documentary', 'downbeat', 'downtempo',\n",
       "       'drum', 'dub', 'dubstep', 'eastern', 'easy', 'electronic',\n",
       "       'electropop', 'emo', 'entehno', 'epicmetal', 'estrada', 'ethnic',\n",
       "       'eurofolk', 'european', 'experimental', 'extrememetal', 'fado',\n",
       "       'fairytail', 'film', 'fitness', 'flamenco', 'folk', 'folklore',\n",
       "       'folkmetal', 'folkrock', 'folktronica', 'forró', 'frankreich',\n",
       "       'französisch', 'french', 'funk', 'future', 'gangsta', 'garage',\n",
       "       'german', 'ghazal', 'gitarre', 'glitch', 'gospel', 'gothic',\n",
       "       'grime', 'grunge', 'gypsy', 'handsup', \"hard'n'heavy\", 'hardcore',\n",
       "       'hardstyle', 'hardtechno', 'hip', 'hip-hop', 'hiphop',\n",
       "       'historisch', 'holiday', 'hop', 'horror', 'house', 'hymn', 'idm',\n",
       "       'independent', 'indian', 'indie', 'indipop', 'industrial',\n",
       "       'inspirational', 'instrumental', 'international', 'irish', 'jam',\n",
       "       'japanese', 'jazz', 'jewish', 'jpop', 'jungle', 'k-pop',\n",
       "       'karadeniz', 'karaoke', 'kayokyoku', 'korean', 'laiko', 'latin',\n",
       "       'latino', 'leftfield', 'local', 'lounge', 'loungeelectronic',\n",
       "       'lovers', 'malaysian', 'mandopop', 'marschmusik', 'meditative',\n",
       "       'mediterranean', 'melodic', 'metal', 'metalcore', 'mexican',\n",
       "       'middle', 'minimal', 'miscellaneous', 'modern', 'mood', 'mpb',\n",
       "       'muslim', 'native', 'neoklassik', 'neue', 'new', 'newage',\n",
       "       'newwave', 'nu', 'nujazz', 'numetal', 'oceania', 'old', 'opera',\n",
       "       'orchestral', 'other', 'piano', 'podcasts', 'pop', 'popdance',\n",
       "       'popelectronic', 'popeurodance', 'poprussian', 'post',\n",
       "       'posthardcore', 'postrock', 'power', 'progmetal', 'progressive',\n",
       "       'psychedelic', 'punjabi', 'punk', 'quebecois', 'ragga', 'ram',\n",
       "       'rancheras', 'rap', 'rave', 'reggae', 'reggaeton', 'regional',\n",
       "       'relax', 'religious', 'retro', 'rhythm', 'rnb', 'rnr', 'rock',\n",
       "       'rockabilly', 'rockalternative', 'rockindie', 'rockother',\n",
       "       'romance', 'roots', 'ruspop', 'rusrap', 'rusrock', 'russian',\n",
       "       'salsa', 'samba', 'scenic', 'schlager', 'self', 'sertanejo',\n",
       "       'shanson', 'shoegazing', 'showtunes', 'singer', 'ska', 'skarock',\n",
       "       'slow', 'smooth', 'soft', 'soul', 'soulful', 'sound', 'soundtrack',\n",
       "       'southern', 'specialty', 'speech', 'spiritual', 'sport',\n",
       "       'stonerrock', 'surf', 'swing', 'synthpop', 'synthrock',\n",
       "       'sängerportrait', 'tango', 'tanzorchester', 'taraftar', 'tatar',\n",
       "       'tech', 'techno', 'teen', 'thrash', 'top', 'traditional',\n",
       "       'tradjazz', 'trance', 'tribal', 'trip', 'triphop', 'tropical',\n",
       "       'türk', 'türkçe', 'ukrrock', 'unknown', 'urban', 'uzbek',\n",
       "       'variété', 'vi', 'videogame', 'vocal', 'western', 'world',\n",
       "       'worldbeat', 'ïîï', 'электроника'], dtype=object)"
      ]
     },
     "execution_count": 36,
     "metadata": {},
     "output_type": "execute_result"
    }
   ],
   "source": [
    "sorted_df=df['genre'].sort_values().unique()# Просмотр уникальных названий жанров\n",
    "sorted_df"
   ]
  },
  {
   "cell_type": "markdown",
   "metadata": {
    "id": "qej-Qmuo_Zct"
   },
   "source": [
    "Просмотрите список и найдите неявные дубликаты названия `hiphop`. Это могут быть названия с ошибками или альтернативные названия того же жанра.\n",
    "\n",
    "Вы увидите следующие неявные дубликаты:\n",
    "* *hip*,\n",
    "* *hop*,\n",
    "* *hip-hop*.\n",
    "\n",
    "Чтобы очистить от них таблицу, напишите функцию `replace_wrong_genres()` с двумя параметрами: \n",
    "* `wrong_genres` — список дубликатов,\n",
    "* `correct_genre` — строка с правильным значением.\n",
    "\n",
    "\n",
    "Функция должна исправить колонку `genre` в таблице `df`: заменить каждое значение из списка `wrong_genres` на значение из `correct_genre`."
   ]
  },
  {
   "cell_type": "code",
   "execution_count": 37,
   "metadata": {
    "id": "ErNDkmns_Zct"
   },
   "outputs": [],
   "source": [
    "def replace_wrong_genres(wrong_genres,correct_genre):#функция замены некорректных значений жанров в df\n",
    "    for wrong_genre in wrong_genres:\n",
    "        df['genre'] = df['genre'].replace(wrong_genre,correct_genre)\n",
    "    return \n",
    "\n",
    "\n",
    "  \n"
   ]
  },
  {
   "cell_type": "markdown",
   "metadata": {
    "id": "aDoBJxbA_Zct"
   },
   "source": [
    "Вызовите `replace_wrong_genres()` и передайте ей такие аргументы, чтобы она устранила неявные дубликаты: вместо `hip`, `hop` и `hip-hop` в таблице должно быть значение `hiphop`:"
   ]
  },
  {
   "cell_type": "code",
   "execution_count": 38,
   "metadata": {
    "id": "YN5i2hpmSo09"
   },
   "outputs": [],
   "source": [
    "def replace_wrong_genres(wrong_genres,correct_genre):#функция замены некорректных значений жанров в df\n",
    "    for wrong_genre in wrong_genres:\n",
    "        df['genre'] = df['genre'].replace(wrong_genre,correct_genre)\n",
    "    return \n",
    "wrong=['hip','hop','hip-hop']\n",
    "correct='hiphop'\n",
    "replace_wrong_genres(wrong,correct)"
   ]
  },
  {
   "cell_type": "markdown",
   "metadata": {
    "id": "zQKF16_RG15m"
   },
   "source": [
    "Проверьте, что заменили неправильные названия:\n",
    "\n",
    "*   hip\n",
    "*   hop\n",
    "*   hip-hop\n",
    "\n",
    "Выведите отсортированный список уникальных значений столбца `genre`:"
   ]
  },
  {
   "cell_type": "code",
   "execution_count": 39,
   "metadata": {
    "id": "wvixALnFG15m"
   },
   "outputs": [
    {
     "data": {
      "text/plain": [
       "array(['acid', 'acoustic', 'action', 'adult', 'africa', 'afrikaans',\n",
       "       'alternative', 'alternativepunk', 'ambient', 'americana',\n",
       "       'animated', 'anime', 'arabesk', 'arabic', 'arena',\n",
       "       'argentinetango', 'art', 'audiobook', 'author', 'avantgarde',\n",
       "       'axé', 'baile', 'balkan', 'beats', 'bigroom', 'black', 'bluegrass',\n",
       "       'blues', 'bollywood', 'bossa', 'brazilian', 'breakbeat', 'breaks',\n",
       "       'broadway', 'cantautori', 'cantopop', 'canzone', 'caribbean',\n",
       "       'caucasian', 'celtic', 'chamber', 'chanson', 'children', 'chill',\n",
       "       'chinese', 'choral', 'christian', 'christmas', 'classical',\n",
       "       'classicmetal', 'club', 'colombian', 'comedy', 'conjazz',\n",
       "       'contemporary', 'country', 'cuban', 'dance', 'dancehall',\n",
       "       'dancepop', 'dark', 'death', 'deep', 'deutschrock', 'deutschspr',\n",
       "       'dirty', 'disco', 'dnb', 'documentary', 'downbeat', 'downtempo',\n",
       "       'drum', 'dub', 'dubstep', 'eastern', 'easy', 'electronic',\n",
       "       'electropop', 'emo', 'entehno', 'epicmetal', 'estrada', 'ethnic',\n",
       "       'eurofolk', 'european', 'experimental', 'extrememetal', 'fado',\n",
       "       'fairytail', 'film', 'fitness', 'flamenco', 'folk', 'folklore',\n",
       "       'folkmetal', 'folkrock', 'folktronica', 'forró', 'frankreich',\n",
       "       'französisch', 'french', 'funk', 'future', 'gangsta', 'garage',\n",
       "       'german', 'ghazal', 'gitarre', 'glitch', 'gospel', 'gothic',\n",
       "       'grime', 'grunge', 'gypsy', 'handsup', \"hard'n'heavy\", 'hardcore',\n",
       "       'hardstyle', 'hardtechno', 'hiphop', 'historisch', 'holiday',\n",
       "       'horror', 'house', 'hymn', 'idm', 'independent', 'indian', 'indie',\n",
       "       'indipop', 'industrial', 'inspirational', 'instrumental',\n",
       "       'international', 'irish', 'jam', 'japanese', 'jazz', 'jewish',\n",
       "       'jpop', 'jungle', 'k-pop', 'karadeniz', 'karaoke', 'kayokyoku',\n",
       "       'korean', 'laiko', 'latin', 'latino', 'leftfield', 'local',\n",
       "       'lounge', 'loungeelectronic', 'lovers', 'malaysian', 'mandopop',\n",
       "       'marschmusik', 'meditative', 'mediterranean', 'melodic', 'metal',\n",
       "       'metalcore', 'mexican', 'middle', 'minimal', 'miscellaneous',\n",
       "       'modern', 'mood', 'mpb', 'muslim', 'native', 'neoklassik', 'neue',\n",
       "       'new', 'newage', 'newwave', 'nu', 'nujazz', 'numetal', 'oceania',\n",
       "       'old', 'opera', 'orchestral', 'other', 'piano', 'podcasts', 'pop',\n",
       "       'popdance', 'popelectronic', 'popeurodance', 'poprussian', 'post',\n",
       "       'posthardcore', 'postrock', 'power', 'progmetal', 'progressive',\n",
       "       'psychedelic', 'punjabi', 'punk', 'quebecois', 'ragga', 'ram',\n",
       "       'rancheras', 'rap', 'rave', 'reggae', 'reggaeton', 'regional',\n",
       "       'relax', 'religious', 'retro', 'rhythm', 'rnb', 'rnr', 'rock',\n",
       "       'rockabilly', 'rockalternative', 'rockindie', 'rockother',\n",
       "       'romance', 'roots', 'ruspop', 'rusrap', 'rusrock', 'russian',\n",
       "       'salsa', 'samba', 'scenic', 'schlager', 'self', 'sertanejo',\n",
       "       'shanson', 'shoegazing', 'showtunes', 'singer', 'ska', 'skarock',\n",
       "       'slow', 'smooth', 'soft', 'soul', 'soulful', 'sound', 'soundtrack',\n",
       "       'southern', 'specialty', 'speech', 'spiritual', 'sport',\n",
       "       'stonerrock', 'surf', 'swing', 'synthpop', 'synthrock',\n",
       "       'sängerportrait', 'tango', 'tanzorchester', 'taraftar', 'tatar',\n",
       "       'tech', 'techno', 'teen', 'thrash', 'top', 'traditional',\n",
       "       'tradjazz', 'trance', 'tribal', 'trip', 'triphop', 'tropical',\n",
       "       'türk', 'türkçe', 'ukrrock', 'unknown', 'urban', 'uzbek',\n",
       "       'variété', 'vi', 'videogame', 'vocal', 'western', 'world',\n",
       "       'worldbeat', 'ïîï', 'электроника'], dtype=object)"
      ]
     },
     "metadata": {},
     "output_type": "display_data"
    }
   ],
   "source": [
    "sorted_df=df['genre'].sort_values(ascending=True)\n",
    "display(sorted_df.unique())\n"
   ]
  },
  {
   "cell_type": "markdown",
   "metadata": {
    "id": "jz6a9-7HQUDd"
   },
   "source": [
    "**Выводы**\n",
    "\n",
    "Предобработка обнаружила три проблемы в данных:\n",
    "\n",
    "- нарушения в стиле заголовков,\n",
    "- пропущенные значения,\n",
    "- дубликаты — явные и неявные.\n",
    "\n",
    "Вы исправили заголовки, чтобы упростить работу с таблицей. Без дубликатов исследование станет более точным.\n",
    "\n",
    "Пропущенные значения вы заменили на `'unknown'`. Ещё предстоит увидеть, не повредят ли исследованию пропуски в колонке `genre`.\n",
    "\n",
    "Теперь можно перейти к проверке гипотез. "
   ]
  },
  {
   "cell_type": "markdown",
   "metadata": {
    "id": "WttZHXH0SqKk"
   },
   "source": [
    "## Проверка гипотез"
   ]
  },
  {
   "cell_type": "markdown",
   "metadata": {
    "id": "Im936VVi_Zcu"
   },
   "source": [
    "### Сравнение поведения пользователей двух столиц"
   ]
  },
  {
   "cell_type": "markdown",
   "metadata": {
    "id": "nwt_MuaL_Zcu"
   },
   "source": [
    "Первая гипотеза утверждает, что пользователи по-разному слушают музыку в Москве и Санкт-Петербурге. Проверьте это предположение по данным о трёх днях недели — понедельнике, среде и пятнице. Для этого:\n",
    "\n",
    "* Разделите пользователей Москвы и Санкт-Петербурга\n",
    "* Сравните, сколько треков послушала каждая группа пользователей в понедельник, среду и пятницу.\n"
   ]
  },
  {
   "cell_type": "markdown",
   "metadata": {
    "id": "8Dw_YMmT_Zcu"
   },
   "source": [
    "Для тренировки сначала выполните каждый из расчётов по отдельности. \n",
    "\n",
    "Оцените активность пользователей в каждом городе. Сгруппируйте данные по городу и посчитайте прослушивания в каждой группе.\n",
    "\n"
   ]
  },
  {
   "cell_type": "code",
   "execution_count": 40,
   "metadata": {
    "id": "0_Qs96oh_Zcu"
   },
   "outputs": [
    {
     "data": {
      "text/html": [
       "<div>\n",
       "<style scoped>\n",
       "    .dataframe tbody tr th:only-of-type {\n",
       "        vertical-align: middle;\n",
       "    }\n",
       "\n",
       "    .dataframe tbody tr th {\n",
       "        vertical-align: top;\n",
       "    }\n",
       "\n",
       "    .dataframe thead th {\n",
       "        text-align: right;\n",
       "    }\n",
       "</style>\n",
       "<table border=\"1\" class=\"dataframe\">\n",
       "  <thead>\n",
       "    <tr style=\"text-align: right;\">\n",
       "      <th></th>\n",
       "      <th>track</th>\n",
       "    </tr>\n",
       "    <tr>\n",
       "      <th>city</th>\n",
       "      <th></th>\n",
       "    </tr>\n",
       "  </thead>\n",
       "  <tbody>\n",
       "    <tr>\n",
       "      <th>Moscow</th>\n",
       "      <td>42741</td>\n",
       "    </tr>\n",
       "    <tr>\n",
       "      <th>Saint-Petersburg</th>\n",
       "      <td>18512</td>\n",
       "    </tr>\n",
       "  </tbody>\n",
       "</table>\n",
       "</div>"
      ],
      "text/plain": [
       "                  track\n",
       "city                   \n",
       "Moscow            42741\n",
       "Saint-Petersburg  18512"
      ]
     },
     "execution_count": 40,
     "metadata": {},
     "output_type": "execute_result"
    }
   ],
   "source": [
    "df.groupby('city')['track'].count().to_frame()"
   ]
  },
  {
   "cell_type": "markdown",
   "metadata": {
    "id": "dzli3w8o_Zcu"
   },
   "source": [
    "В Москве прослушиваний больше, чем в Петербурге. Из этого не следует, что московские пользователи чаще слушают музыку. Просто самих пользователей в Москве больше.\n",
    "\n",
    "Теперь сгруппируйте данные по дню недели и подсчитайте прослушивания в понедельник, среду и пятницу. Учтите, что в данных есть информация о прослушиваниях только за эти дни.\n"
   ]
  },
  {
   "cell_type": "code",
   "execution_count": 41,
   "metadata": {
    "id": "uZMKjiJz_Zcu"
   },
   "outputs": [
    {
     "data": {
      "text/html": [
       "<div>\n",
       "<style scoped>\n",
       "    .dataframe tbody tr th:only-of-type {\n",
       "        vertical-align: middle;\n",
       "    }\n",
       "\n",
       "    .dataframe tbody tr th {\n",
       "        vertical-align: top;\n",
       "    }\n",
       "\n",
       "    .dataframe thead th {\n",
       "        text-align: right;\n",
       "    }\n",
       "</style>\n",
       "<table border=\"1\" class=\"dataframe\">\n",
       "  <thead>\n",
       "    <tr style=\"text-align: right;\">\n",
       "      <th></th>\n",
       "      <th>user_id</th>\n",
       "    </tr>\n",
       "    <tr>\n",
       "      <th>day</th>\n",
       "      <th></th>\n",
       "    </tr>\n",
       "  </thead>\n",
       "  <tbody>\n",
       "    <tr>\n",
       "      <th>Friday</th>\n",
       "      <td>21840</td>\n",
       "    </tr>\n",
       "    <tr>\n",
       "      <th>Monday</th>\n",
       "      <td>21354</td>\n",
       "    </tr>\n",
       "    <tr>\n",
       "      <th>Wednesday</th>\n",
       "      <td>18059</td>\n",
       "    </tr>\n",
       "  </tbody>\n",
       "</table>\n",
       "</div>"
      ],
      "text/plain": [
       "           user_id\n",
       "day               \n",
       "Friday       21840\n",
       "Monday       21354\n",
       "Wednesday    18059"
      ]
     },
     "metadata": {},
     "output_type": "display_data"
    },
    {
     "data": {
      "text/html": [
       "<div>\n",
       "<style scoped>\n",
       "    .dataframe tbody tr th:only-of-type {\n",
       "        vertical-align: middle;\n",
       "    }\n",
       "\n",
       "    .dataframe tbody tr th {\n",
       "        vertical-align: top;\n",
       "    }\n",
       "\n",
       "    .dataframe thead th {\n",
       "        text-align: right;\n",
       "    }\n",
       "</style>\n",
       "<table border=\"1\" class=\"dataframe\">\n",
       "  <thead>\n",
       "    <tr style=\"text-align: right;\">\n",
       "      <th></th>\n",
       "      <th>user_id</th>\n",
       "    </tr>\n",
       "    <tr>\n",
       "      <th>day</th>\n",
       "      <th></th>\n",
       "    </tr>\n",
       "  </thead>\n",
       "  <tbody>\n",
       "    <tr>\n",
       "      <th>Friday</th>\n",
       "      <td>21840</td>\n",
       "    </tr>\n",
       "    <tr>\n",
       "      <th>Monday</th>\n",
       "      <td>21354</td>\n",
       "    </tr>\n",
       "    <tr>\n",
       "      <th>Wednesday</th>\n",
       "      <td>18059</td>\n",
       "    </tr>\n",
       "  </tbody>\n",
       "</table>\n",
       "</div>"
      ],
      "text/plain": [
       "           user_id\n",
       "day               \n",
       "Friday       21840\n",
       "Monday       21354\n",
       "Wednesday    18059"
      ]
     },
     "metadata": {},
     "output_type": "display_data"
    }
   ],
   "source": [
    "display(df.groupby('day')['user_id'].count().to_frame()) #подсчет и отображение количества прослушиваний с фильтрацией по дням МСК\n",
    "display(df.groupby('day')['user_id'].count().to_frame()) #подсчет и отображение количества прослушиваний с фильтрацией по дням СПБ"
   ]
  },
  {
   "cell_type": "markdown",
   "metadata": {
    "id": "cC2tNrlL_Zcu"
   },
   "source": [
    "В среднем пользователи из двух городов менее активны по средам. Но картина может измениться, если рассмотреть каждый город в отдельности."
   ]
  },
  {
   "cell_type": "markdown",
   "metadata": {
    "id": "POzs8bGa_Zcu"
   },
   "source": [
    "Вы видели, как работает группировка по городу и по дням недели. Теперь напишите функцию, которая объединит два эти расчёта.\n",
    "\n",
    "Создайте функцию `number_tracks()`, которая посчитает прослушивания для заданного дня и города. Ей понадобятся два параметра:\n",
    "* день недели,\n",
    "* название города.\n",
    "\n",
    "В функции сохраните в переменную строки исходной таблицы, у которых значение:\n",
    "  * в колонке `day` равно параметру `day`,\n",
    "  * в колонке `city` равно параметру `city`.\n",
    "\n",
    "Для этого примените последовательную фильтрацию с логической индексацией.\n",
    "\n",
    "Затем посчитайте значения в столбце `user_id` получившейся таблицы. Результат сохраните в новую переменную. Верните эту переменную из функции."
   ]
  },
  {
   "cell_type": "code",
   "execution_count": 42,
   "metadata": {
    "id": "Nz3GdQB1_Zcu"
   },
   "outputs": [],
   "source": [
    "def number_tracks(day,city):\n",
    "    track_list=df[df['day']==day]\n",
    "    track_list=track_list[track_list['city']==city]\n",
    "    track_list_count=track_list['user_id'].count()\n",
    "    return track_list_count\n",
    "\n",
    "# <создание функции number_tracks()>\n",
    "    # Объявляется функция с двумя параметрами: day, city.\n",
    "# В переменной track_list сохраняются те строки таблицы df, для которых \n",
    "# значение в столбце 'day' равно параметру day и одновременно значение\n",
    "# в столбце 'city' равно параметру city (используйте последовательную фильтрацию\n",
    "# с помощью логической индексации).\n",
    "# В переменной track_list_count сохраняется число значений столбца 'user_id',\n",
    "# рассчитанное методом count() для таблицы track_list.\n",
    "# Функция возвращает число - значение track_list_count.\n",
    "\n",
    "# Функция для подсчёта прослушиваний для конкретного города и дня.\n",
    "# С помощью последовательной фильтрации с логической индексацией она \n",
    "# сначала получит из исходной таблицы строки с нужным днём,\n",
    "# затем из результата отфильтрует строки с нужным городом,\n",
    "# методом count() посчитает количество значений в колонке user_id. \n",
    "# Это количество функция вернёт в качестве результата"
   ]
  },
  {
   "cell_type": "markdown",
   "metadata": {
    "id": "ytf7xFrFJQ2r"
   },
   "source": [
    "Вызовите `number_tracks()` шесть раз, меняя значение параметров — так, чтобы получить данные для каждого города в каждый из трёх дней."
   ]
  },
  {
   "cell_type": "code",
   "execution_count": 43,
   "metadata": {
    "id": "rJcRATNQ_Zcu"
   },
   "outputs": [
    {
     "data": {
      "text/plain": [
       "15740"
      ]
     },
     "execution_count": 43,
     "metadata": {},
     "output_type": "execute_result"
    }
   ],
   "source": [
    "number_tracks('Monday','Moscow')# количество прослушиваний в Москве по понедельникам"
   ]
  },
  {
   "cell_type": "code",
   "execution_count": 44,
   "metadata": {
    "id": "hq_ncZ5T_Zcu"
   },
   "outputs": [
    {
     "data": {
      "text/plain": [
       "5614"
      ]
     },
     "execution_count": 44,
     "metadata": {},
     "output_type": "execute_result"
    }
   ],
   "source": [
    "number_tracks('Monday','Saint-Petersburg')# количество прослушиваний в Санкт-Петербурге по понедельникам"
   ]
  },
  {
   "cell_type": "code",
   "execution_count": 45,
   "metadata": {
    "id": "_NTy2VPU_Zcu"
   },
   "outputs": [
    {
     "data": {
      "text/plain": [
       "11056"
      ]
     },
     "execution_count": 45,
     "metadata": {},
     "output_type": "execute_result"
    }
   ],
   "source": [
    "number_tracks('Wednesday','Moscow')# количество прослушиваний в Москве по средам"
   ]
  },
  {
   "cell_type": "code",
   "execution_count": 46,
   "metadata": {
    "id": "j2y3TAwo_Zcu"
   },
   "outputs": [
    {
     "data": {
      "text/plain": [
       "7003"
      ]
     },
     "execution_count": 46,
     "metadata": {},
     "output_type": "execute_result"
    }
   ],
   "source": [
    "number_tracks('Wednesday','Saint-Petersburg')# количество прослушиваний в Санкт-Петербурге по средам"
   ]
  },
  {
   "cell_type": "code",
   "execution_count": 47,
   "metadata": {
    "id": "vYDw5u_K_Zcu"
   },
   "outputs": [
    {
     "data": {
      "text/plain": [
       "15945"
      ]
     },
     "execution_count": 47,
     "metadata": {},
     "output_type": "execute_result"
    }
   ],
   "source": [
    "number_tracks('Friday','Moscow')# количество прослушиваний в Москве по пятницам"
   ]
  },
  {
   "cell_type": "code",
   "execution_count": 48,
   "metadata": {
    "id": "8_yzFtW3_Zcu"
   },
   "outputs": [
    {
     "data": {
      "text/plain": [
       "5895"
      ]
     },
     "execution_count": 48,
     "metadata": {},
     "output_type": "execute_result"
    }
   ],
   "source": [
    "number_tracks('Friday','Saint-Petersburg')# количество прослушиваний в Санкт-Петербурге по пятницам"
   ]
  },
  {
   "cell_type": "markdown",
   "metadata": {
    "id": "7QXffbO-_Zcu"
   },
   "source": [
    "Создайте c помощью конструктора `pd.DataFrame` таблицу, где\n",
    "* названия колонок — `['city', 'monday', 'wednesday', 'friday']`;\n",
    "* данные — результаты, которые вы получили с помощью `number_tracks`."
   ]
  },
  {
   "cell_type": "code",
   "execution_count": 49,
   "metadata": {
    "id": "APAcLpOr_Zcu"
   },
   "outputs": [
    {
     "data": {
      "text/html": [
       "<div>\n",
       "<style scoped>\n",
       "    .dataframe tbody tr th:only-of-type {\n",
       "        vertical-align: middle;\n",
       "    }\n",
       "\n",
       "    .dataframe tbody tr th {\n",
       "        vertical-align: top;\n",
       "    }\n",
       "\n",
       "    .dataframe thead th {\n",
       "        text-align: right;\n",
       "    }\n",
       "</style>\n",
       "<table border=\"1\" class=\"dataframe\">\n",
       "  <thead>\n",
       "    <tr style=\"text-align: right;\">\n",
       "      <th></th>\n",
       "      <th>city</th>\n",
       "      <th>monday</th>\n",
       "      <th>wednesday</th>\n",
       "      <th>friday</th>\n",
       "    </tr>\n",
       "  </thead>\n",
       "  <tbody>\n",
       "    <tr>\n",
       "      <th>0</th>\n",
       "      <td>Moscow</td>\n",
       "      <td>15740</td>\n",
       "      <td>11056</td>\n",
       "      <td>15945</td>\n",
       "    </tr>\n",
       "    <tr>\n",
       "      <th>1</th>\n",
       "      <td>Saint-Petersburg</td>\n",
       "      <td>5614</td>\n",
       "      <td>7003</td>\n",
       "      <td>5895</td>\n",
       "    </tr>\n",
       "  </tbody>\n",
       "</table>\n",
       "</div>"
      ],
      "text/plain": [
       "               city  monday  wednesday  friday\n",
       "0            Moscow   15740      11056   15945\n",
       "1  Saint-Petersburg    5614       7003    5895"
      ]
     },
     "metadata": {},
     "output_type": "display_data"
    }
   ],
   "source": [
    "data=[['Moscow',number_tracks('Monday','Moscow'),number_tracks('Wednesday','Moscow'),number_tracks('Friday','Moscow')],\n",
    "      ['Saint-Petersburg',number_tracks('Monday','Saint-Petersburg'),number_tracks('Wednesday','Saint-Petersburg'),number_tracks('Friday','Saint-Petersburg')]]\n",
    "columns = ['city', 'monday', 'wednesday', 'friday']\n",
    "\n",
    "g=pd.DataFrame(data)\n",
    "h=pd.DataFrame(columns)\n",
    "research_tracks_result=pd.DataFrame(data=data,columns=columns)\n",
    "display(research_tracks_result)# Таблица с результатами"
   ]
  },
  {
   "cell_type": "markdown",
   "metadata": {
    "id": "-EgPIHYu_Zcu"
   },
   "source": [
    "**Выводы**\n",
    "\n",
    "Данные показывают разницу поведения пользователей:\n",
    "\n",
    "- В Москве пик прослушиваний приходится на понедельник и пятницу, а в среду заметен спад.\n",
    "- В Петербурге, наоборот, больше слушают музыку по средам. Активность в понедельник и пятницу здесь почти в равной мере уступает среде.\n",
    "\n",
    "Значит, данные говорят в пользу первой гипотезы."
   ]
  },
  {
   "cell_type": "markdown",
   "metadata": {
    "id": "atZAxtq4_Zcu"
   },
   "source": [
    "### Музыка в начале и в конце недели"
   ]
  },
  {
   "cell_type": "markdown",
   "metadata": {
    "id": "eXrQqXFH_Zcu"
   },
   "source": [
    "Согласно второй гипотезе, утром в понедельник в Москве преобладают одни жанры, а в Петербурге — другие. Так же и вечером пятницы преобладают разные жанры — в зависимости от города."
   ]
  },
  {
   "cell_type": "markdown",
   "metadata": {
    "id": "S8UcW6Hw_Zcu"
   },
   "source": [
    "Сохраните таблицы с данными в две переменные:\n",
    "* по Москве — в `moscow_general`;\n",
    "* по Санкт-Петербургу — в `spb_general`."
   ]
  },
  {
   "cell_type": "code",
   "execution_count": 50,
   "metadata": {
    "id": "qeaFfM_P_Zcu"
   },
   "outputs": [],
   "source": [
    "moscow_general=df[df['city']=='Moscow']# получение таблицы moscow_general из тех строк таблицы df, \n",
    "# для которых значение в столбце 'city' равно 'Moscow'\n"
   ]
  },
  {
   "cell_type": "code",
   "execution_count": 51,
   "metadata": {
    "id": "ORaVRKto_Zcu"
   },
   "outputs": [],
   "source": [
    "spb_general=df[df['city']=='Saint-Petersburg']# получение таблицы spb_general из тех строк таблицы df,\n",
    "# для которых значение в столбце 'city' равно 'Saint-Petersburg'\n"
   ]
  },
  {
   "cell_type": "markdown",
   "metadata": {
    "id": "MEJV-CX2_Zcu"
   },
   "source": [
    "Создайте функцию `genre_weekday()` с четырьмя параметрами:\n",
    "* таблица (датафрейм) с данными,\n",
    "* день недели,\n",
    "* начальная временная метка в формате 'hh:mm', \n",
    "* последняя временная метка в формате 'hh:mm'.\n",
    "\n",
    "Функция должна вернуть информацию о топ-10 жанров тех треков, которые прослушивали в указанный день, в промежутке между двумя отметками времени."
   ]
  },
  {
   "cell_type": "markdown",
   "metadata": {
    "id": "la2s2_PF_Zcu"
   },
   "source": [
    "Cравните результаты функции `genre_weekday()` для Москвы и Санкт-Петербурга в понедельник утром (с 7:00 до 11:00) и в пятницу вечером (с 17:00 до 23:00):"
   ]
  },
  {
   "cell_type": "code",
   "execution_count": 52,
   "metadata": {
    "id": "laJT9BYl_Zcu"
   },
   "outputs": [],
   "source": [
    "def genre_weekday(table, day, time1, time2,):\n",
    "    genre_df=table[table['day']==day]\n",
    "    genre_df=genre_df[genre_df['time']>time1]\n",
    "    genre_df=genre_df[genre_df['time']<time2]\n",
    "    genre_df_count=genre_df.groupby('genre')['user_id'].count()\n",
    "    genre_df_sorted=genre_df_count.sort_values(ascending=False)\n",
    "    genre_df_sorted=pd.DataFrame(data=data,columns=columns)\n",
    "    \n",
    "    return genre_df_sorted.head(10)\n",
    "    \n",
    "# Объявление функции genre_weekday() с параметрами table, day, time1, time2,\n",
    "# которая возвращает информацию о самых популярных жанрах в указанный день в\n",
    "# заданное время:\n",
    "# 1) в переменную genre_df сохраняются те строки переданного датафрейма table, для\n",
    "#    которых одновременно:\n",
    "#    - значение в столбце day равно значению аргумента day\n",
    "#    - значение в столбце time больше значения аргумента time1\n",
    "#    - значение в столбце time меньше значения аргумента time2\n",
    "#    Используйте последовательную фильтрацию с помощью логической индексации.\n",
    "# 2) сгруппировать датафрейм genre_df по столбцу genre, взять один из его\n",
    "#    столбцов и посчитать методом count() количество записей для каждого из\n",
    "#    присутствующих жанров, получившийся Series записать в переменную\n",
    "#    genre_df_count\n",
    "# 3) отсортировать genre_df_count по убыванию встречаемости и сохранить\n",
    "#    в переменную genre_df_sorted\n",
    "# 4) вернуть Series из 10 первых значений genre_df_sorted, это будут топ-10\n",
    "#    популярных жанров (в указанный день, в заданное время)"
   ]
  },
  {
   "cell_type": "code",
   "execution_count": 53,
   "metadata": {
    "id": "yz7itPUQ_Zcu"
   },
   "outputs": [
    {
     "data": {
      "text/html": [
       "<div>\n",
       "<style scoped>\n",
       "    .dataframe tbody tr th:only-of-type {\n",
       "        vertical-align: middle;\n",
       "    }\n",
       "\n",
       "    .dataframe tbody tr th {\n",
       "        vertical-align: top;\n",
       "    }\n",
       "\n",
       "    .dataframe thead th {\n",
       "        text-align: right;\n",
       "    }\n",
       "</style>\n",
       "<table border=\"1\" class=\"dataframe\">\n",
       "  <thead>\n",
       "    <tr style=\"text-align: right;\">\n",
       "      <th></th>\n",
       "      <th>city</th>\n",
       "      <th>monday</th>\n",
       "      <th>wednesday</th>\n",
       "      <th>friday</th>\n",
       "    </tr>\n",
       "  </thead>\n",
       "  <tbody>\n",
       "    <tr>\n",
       "      <th>0</th>\n",
       "      <td>Moscow</td>\n",
       "      <td>15740</td>\n",
       "      <td>11056</td>\n",
       "      <td>15945</td>\n",
       "    </tr>\n",
       "    <tr>\n",
       "      <th>1</th>\n",
       "      <td>Saint-Petersburg</td>\n",
       "      <td>5614</td>\n",
       "      <td>7003</td>\n",
       "      <td>5895</td>\n",
       "    </tr>\n",
       "  </tbody>\n",
       "</table>\n",
       "</div>"
      ],
      "text/plain": [
       "               city  monday  wednesday  friday\n",
       "0            Moscow   15740      11056   15945\n",
       "1  Saint-Petersburg    5614       7003    5895"
      ]
     },
     "execution_count": 53,
     "metadata": {},
     "output_type": "execute_result"
    }
   ],
   "source": [
    "genre_weekday(moscow_general, 'Monday', '07:00', '11:00')\n",
    "\n",
    "# вызов функции для утра понедельника в Москве (вместо df — таблица moscow_general)\n",
    "# объекты, хранящие время, являются строками и сравниваются как строки\n",
    "# пример вызова: genre_weekday(moscow_general, 'Monday', '07:00', '11:00')"
   ]
  },
  {
   "cell_type": "code",
   "execution_count": 54,
   "metadata": {
    "id": "kwUcHPdy_Zcu"
   },
   "outputs": [
    {
     "data": {
      "text/html": [
       "<div>\n",
       "<style scoped>\n",
       "    .dataframe tbody tr th:only-of-type {\n",
       "        vertical-align: middle;\n",
       "    }\n",
       "\n",
       "    .dataframe tbody tr th {\n",
       "        vertical-align: top;\n",
       "    }\n",
       "\n",
       "    .dataframe thead th {\n",
       "        text-align: right;\n",
       "    }\n",
       "</style>\n",
       "<table border=\"1\" class=\"dataframe\">\n",
       "  <thead>\n",
       "    <tr style=\"text-align: right;\">\n",
       "      <th></th>\n",
       "      <th>city</th>\n",
       "      <th>monday</th>\n",
       "      <th>wednesday</th>\n",
       "      <th>friday</th>\n",
       "    </tr>\n",
       "  </thead>\n",
       "  <tbody>\n",
       "    <tr>\n",
       "      <th>0</th>\n",
       "      <td>Moscow</td>\n",
       "      <td>15740</td>\n",
       "      <td>11056</td>\n",
       "      <td>15945</td>\n",
       "    </tr>\n",
       "    <tr>\n",
       "      <th>1</th>\n",
       "      <td>Saint-Petersburg</td>\n",
       "      <td>5614</td>\n",
       "      <td>7003</td>\n",
       "      <td>5895</td>\n",
       "    </tr>\n",
       "  </tbody>\n",
       "</table>\n",
       "</div>"
      ],
      "text/plain": [
       "               city  monday  wednesday  friday\n",
       "0            Moscow   15740      11056   15945\n",
       "1  Saint-Petersburg    5614       7003    5895"
      ]
     },
     "execution_count": 54,
     "metadata": {},
     "output_type": "execute_result"
    }
   ],
   "source": [
    "genre_weekday(spb_general, 'Monday', '07:00', '11:00')# вызов функции для утра понедельника в Петербурге (вместо df — таблица spb_general)"
   ]
  },
  {
   "cell_type": "code",
   "execution_count": 55,
   "metadata": {
    "id": "EzXVRE1o_Zcu"
   },
   "outputs": [
    {
     "data": {
      "text/html": [
       "<div>\n",
       "<style scoped>\n",
       "    .dataframe tbody tr th:only-of-type {\n",
       "        vertical-align: middle;\n",
       "    }\n",
       "\n",
       "    .dataframe tbody tr th {\n",
       "        vertical-align: top;\n",
       "    }\n",
       "\n",
       "    .dataframe thead th {\n",
       "        text-align: right;\n",
       "    }\n",
       "</style>\n",
       "<table border=\"1\" class=\"dataframe\">\n",
       "  <thead>\n",
       "    <tr style=\"text-align: right;\">\n",
       "      <th></th>\n",
       "      <th>city</th>\n",
       "      <th>monday</th>\n",
       "      <th>wednesday</th>\n",
       "      <th>friday</th>\n",
       "    </tr>\n",
       "  </thead>\n",
       "  <tbody>\n",
       "    <tr>\n",
       "      <th>0</th>\n",
       "      <td>Moscow</td>\n",
       "      <td>15740</td>\n",
       "      <td>11056</td>\n",
       "      <td>15945</td>\n",
       "    </tr>\n",
       "    <tr>\n",
       "      <th>1</th>\n",
       "      <td>Saint-Petersburg</td>\n",
       "      <td>5614</td>\n",
       "      <td>7003</td>\n",
       "      <td>5895</td>\n",
       "    </tr>\n",
       "  </tbody>\n",
       "</table>\n",
       "</div>"
      ],
      "text/plain": [
       "               city  monday  wednesday  friday\n",
       "0            Moscow   15740      11056   15945\n",
       "1  Saint-Petersburg    5614       7003    5895"
      ]
     },
     "execution_count": 55,
     "metadata": {},
     "output_type": "execute_result"
    }
   ],
   "source": [
    "genre_weekday(moscow_general, 'Friday', '17:00', '23:00')# вызов функции для вечера пятницы в Москве"
   ]
  },
  {
   "cell_type": "code",
   "execution_count": 56,
   "metadata": {
    "id": "JZaEKu5v_Zcu"
   },
   "outputs": [
    {
     "data": {
      "text/html": [
       "<div>\n",
       "<style scoped>\n",
       "    .dataframe tbody tr th:only-of-type {\n",
       "        vertical-align: middle;\n",
       "    }\n",
       "\n",
       "    .dataframe tbody tr th {\n",
       "        vertical-align: top;\n",
       "    }\n",
       "\n",
       "    .dataframe thead th {\n",
       "        text-align: right;\n",
       "    }\n",
       "</style>\n",
       "<table border=\"1\" class=\"dataframe\">\n",
       "  <thead>\n",
       "    <tr style=\"text-align: right;\">\n",
       "      <th></th>\n",
       "      <th>city</th>\n",
       "      <th>monday</th>\n",
       "      <th>wednesday</th>\n",
       "      <th>friday</th>\n",
       "    </tr>\n",
       "  </thead>\n",
       "  <tbody>\n",
       "    <tr>\n",
       "      <th>0</th>\n",
       "      <td>Moscow</td>\n",
       "      <td>15740</td>\n",
       "      <td>11056</td>\n",
       "      <td>15945</td>\n",
       "    </tr>\n",
       "    <tr>\n",
       "      <th>1</th>\n",
       "      <td>Saint-Petersburg</td>\n",
       "      <td>5614</td>\n",
       "      <td>7003</td>\n",
       "      <td>5895</td>\n",
       "    </tr>\n",
       "  </tbody>\n",
       "</table>\n",
       "</div>"
      ],
      "text/plain": [
       "               city  monday  wednesday  friday\n",
       "0            Moscow   15740      11056   15945\n",
       "1  Saint-Petersburg    5614       7003    5895"
      ]
     },
     "execution_count": 56,
     "metadata": {},
     "output_type": "execute_result"
    }
   ],
   "source": [
    "genre_weekday(spb_general, 'Friday', '17:00', '23:00')# вызов функции для вечера пятницы в Петербурге"
   ]
  },
  {
   "cell_type": "markdown",
   "metadata": {
    "id": "wrCe4MNX_Zcu"
   },
   "source": [
    "**Выводы**\n",
    "\n",
    "Если сравнить топ-10 жанров в понедельник утром, можно сделать такие выводы:\n",
    "\n",
    "1. В Москве и Петербурге слушают похожую музыку. Единственное отличие — в московский рейтинг вошёл жанр “world”, а в петербургский — джаз и классика.\n",
    "\n",
    "2. В Москве пропущенных значений оказалось так много, что значение `'unknown'` заняло десятое место среди самых популярных жанров. Значит, пропущенные значения занимают существенную долю в данных и угрожают достоверности исследования.\n",
    "\n",
    "Вечер пятницы не меняет эту картину. Некоторые жанры поднимаются немного выше, другие спускаются, но в целом топ-10 остаётся тем же самым.\n",
    "\n",
    "Таким образом, вторая гипотеза подтвердилась лишь частично:\n",
    "* Пользователи слушают похожую музыку в начале недели и в конце.\n",
    "* Разница между Москвой и Петербургом не слишком выражена. В Москве чаще слушают русскую популярную музыку, в Петербурге — джаз.\n",
    "\n",
    "Однако пропуски в данных ставят под сомнение этот результат. В Москве их так много, что рейтинг топ-10 мог бы выглядеть иначе, если бы не утерянные  данные о жанрах."
   ]
  },
  {
   "cell_type": "markdown",
   "metadata": {
    "id": "JolODAqr_Zcu"
   },
   "source": [
    "### Жанровые предпочтения в Москве и Петербурге\n",
    "\n",
    "Гипотеза: Петербург — столица рэпа, музыку этого жанра там слушают чаще, чем в Москве.  А Москва — город контрастов, в котором, тем не менее, преобладает поп-музыка."
   ]
  },
  {
   "cell_type": "markdown",
   "metadata": {
    "id": "DlegSvaT_Zcu"
   },
   "source": [
    "Сгруппируйте таблицу `moscow_general` по жанру и посчитайте прослушивания треков каждого жанра методом `count()`. Затем отсортируйте результат в порядке убывания и сохраните его в таблице `moscow_genres`."
   ]
  },
  {
   "cell_type": "code",
   "execution_count": 57,
   "metadata": {
    "id": "r19lIPke_Zcu"
   },
   "outputs": [],
   "source": [
    "moscow_general_group=moscow_general.groupby('genre') \n",
    "moscow_general_group_count=moscow_general_group['genre'].count()\n",
    "moscow_genres=moscow_general_group_count.sort_values(ascending=False)\n",
    "# одной строкой: группировка таблицы moscow_general по столбцу 'genre', \n",
    "# подсчёт числа значений 'genre' в этой группировке методом count(), \n",
    "# сортировка получившегося Series в порядке убывания и сохранение в moscow_genres"
   ]
  },
  {
   "cell_type": "markdown",
   "metadata": {
    "id": "6kMuomxTiIr8"
   },
   "source": [
    "Выведите на экран первые десять строк `moscow_genres`:"
   ]
  },
  {
   "cell_type": "code",
   "execution_count": 58,
   "metadata": {
    "id": "WhCSooF8_Zcv"
   },
   "outputs": [
    {
     "data": {
      "text/plain": [
       "genre\n",
       "pop            5892\n",
       "dance          4435\n",
       "rock           3965\n",
       "electronic     3786\n",
       "hiphop         2096\n",
       "classical      1616\n",
       "world          1432\n",
       "alternative    1379\n",
       "ruspop         1372\n",
       "rusrap         1161\n",
       "Name: genre, dtype: int64"
      ]
     },
     "metadata": {},
     "output_type": "display_data"
    }
   ],
   "source": [
    "display(moscow_genres.head(10))# просмотр первых 10 строк moscow_genres"
   ]
  },
  {
   "cell_type": "markdown",
   "metadata": {
    "id": "cnPG2vnN_Zcv"
   },
   "source": [
    "Теперь повторите то же и для Петербурга.\n",
    "\n",
    "Сгруппируйте таблицу `spb_general` по жанру. Посчитайте прослушивания треков каждого жанра. Результат отсортируйте в порядке убывания и сохраните в таблице `spb_genres`:\n"
   ]
  },
  {
   "cell_type": "code",
   "execution_count": 59,
   "metadata": {
    "id": "gluLIpE7_Zcv"
   },
   "outputs": [],
   "source": [
    "spb_general_group=spb_general.groupby('genre') \n",
    "spb_general_group_count=spb_general_group['genre'].count()\n",
    "spb_genres=spb_general_group_count.sort_values(ascending=False)\n",
    "\n",
    "# одной строкой: группировка таблицы spb_general по столбцу 'genre', \n",
    "# подсчёт числа значений 'genre' в этой группировке методом count(), \n",
    "# сортировка получившегося Series в порядке убывания и сохранение в spb_genres"
   ]
  },
  {
   "cell_type": "markdown",
   "metadata": {
    "id": "5Doha_ODgyQ8"
   },
   "source": [
    "Выведите на экран первые десять строк `spb_genres`:"
   ]
  },
  {
   "cell_type": "code",
   "execution_count": 60,
   "metadata": {
    "id": "uaGJHjVU_Zcv"
   },
   "outputs": [
    {
     "data": {
      "text/plain": [
       "genre\n",
       "pop            2431\n",
       "dance          1932\n",
       "rock           1879\n",
       "electronic     1736\n",
       "hiphop          960\n",
       "alternative     649\n",
       "classical       646\n",
       "rusrap          564\n",
       "ruspop          538\n",
       "world           515\n",
       "Name: genre, dtype: int64"
      ]
     },
     "execution_count": 60,
     "metadata": {},
     "output_type": "execute_result"
    }
   ],
   "source": [
    "spb_genres.head(10)# просмотр первых 10 строк spb_genres"
   ]
  },
  {
   "cell_type": "markdown",
   "metadata": {
    "id": "RY51YJYu_Zcv"
   },
   "source": [
    "**Выводы**"
   ]
  },
  {
   "cell_type": "markdown",
   "metadata": {
    "id": "nVhnJEm__Zcv"
   },
   "source": [
    "Гипотеза частично подтвердилась:\n",
    "* Поп-музыка — самый популярный жанр в Москве, как и предполагала гипотеза. Более того, в топ-10 жанров встречается близкий жанр — русская популярная музыка.\n",
    "* Вопреки ожиданиям, рэп одинаково популярен в Москве и Петербурге. \n"
   ]
  },
  {
   "cell_type": "markdown",
   "metadata": {
    "id": "ykKQ0N65_Zcv"
   },
   "source": [
    "## Итоги исследования"
   ]
  },
  {
   "cell_type": "markdown",
   "metadata": {
    "id": "tjUwbHb3_Zcv"
   },
   "source": [
    "Вы проверили три гипотезы и установили:\n",
    "\n",
    "1. День недели по-разному влияет на активность пользователей в Москве и Петербурге. \n",
    "\n",
    "Первая гипотеза полностью подтвердилась.\n",
    "\n",
    "2. Музыкальные предпочтения не сильно меняются в течение недели — будь то Москва или Петербург. Небольшие различия заметны в начале недели, по понедельникам:\n",
    "* в Москве слушают музыку жанра “world”,\n",
    "* в Петербурге — джаз и классику.\n",
    "\n",
    "Таким образом, вторая гипотеза подтвердилась лишь отчасти. Этот результат мог оказаться иным, если бы не пропуски в данных.\n",
    "\n",
    "3. Во вкусах пользователей Москвы и Петербурга больше общего чем различий. Вопреки ожиданиям, предпочтения жанров в Петербурге напоминают московские.\n",
    "\n",
    "Третья гипотеза не подтвердилась. Если различия в предпочтениях и существуют, на основной массе пользователей они незаметны.\n",
    "\n",
    "**На практике исследования содержат проверки статистических гипотез.**\n",
    "Из данных одного сервиса не всегда можно сделать вывод о всех жителях города.\n",
    "Проверки статистических гипотез покажут, насколько они достоверны, исходя из имеющихся данных. \n",
    "С методами проверок гипотез вы ещё познакомитесь в следующих темах."
   ]
  }
 ],
 "metadata": {
  "ExecuteTimeLog": [
   {
    "duration": 3,
    "start_time": "2022-06-25T07:40:32.691Z"
   },
   {
    "duration": 11,
    "start_time": "2022-06-25T07:41:07.131Z"
   },
   {
    "duration": 52,
    "start_time": "2022-06-25T07:41:31.419Z"
   },
   {
    "duration": 187,
    "start_time": "2022-06-25T07:41:45.981Z"
   },
   {
    "duration": 11,
    "start_time": "2022-06-25T07:42:09.882Z"
   },
   {
    "duration": 8,
    "start_time": "2022-06-25T07:42:24.109Z"
   },
   {
    "duration": 35,
    "start_time": "2022-06-25T07:42:31.537Z"
   },
   {
    "duration": 10,
    "start_time": "2022-06-25T07:43:35.393Z"
   },
   {
    "duration": 7,
    "start_time": "2022-06-25T07:43:54.083Z"
   },
   {
    "duration": 8,
    "start_time": "2022-06-25T07:44:40.207Z"
   },
   {
    "duration": 7,
    "start_time": "2022-06-25T07:44:54.986Z"
   },
   {
    "duration": 9,
    "start_time": "2022-06-25T07:45:14.134Z"
   },
   {
    "duration": 11,
    "start_time": "2022-06-25T07:45:23.588Z"
   },
   {
    "duration": 8,
    "start_time": "2022-06-25T07:46:16.886Z"
   },
   {
    "duration": 10,
    "start_time": "2022-06-25T07:48:20.509Z"
   },
   {
    "duration": 8,
    "start_time": "2022-06-25T07:49:04.978Z"
   },
   {
    "duration": 7,
    "start_time": "2022-06-25T07:49:22.526Z"
   },
   {
    "duration": 12,
    "start_time": "2022-06-25T07:50:08.909Z"
   },
   {
    "duration": 7,
    "start_time": "2022-06-25T07:50:12.898Z"
   },
   {
    "duration": 405,
    "start_time": "2022-06-25T07:51:17.440Z"
   },
   {
    "duration": 177,
    "start_time": "2022-06-25T07:51:19.915Z"
   },
   {
    "duration": 17,
    "start_time": "2022-06-25T07:51:22.083Z"
   },
   {
    "duration": 34,
    "start_time": "2022-06-25T07:51:31.217Z"
   },
   {
    "duration": 8,
    "start_time": "2022-06-25T07:51:40.386Z"
   },
   {
    "duration": 7,
    "start_time": "2022-06-25T07:51:52.627Z"
   },
   {
    "duration": 5,
    "start_time": "2022-06-25T07:52:01.996Z"
   },
   {
    "duration": 9,
    "start_time": "2022-06-25T07:52:04.436Z"
   },
   {
    "duration": 439,
    "start_time": "2022-06-25T07:52:41.712Z"
   },
   {
    "duration": 199,
    "start_time": "2022-06-25T07:52:45.588Z"
   },
   {
    "duration": 22,
    "start_time": "2022-06-25T07:52:48.133Z"
   },
   {
    "duration": 33,
    "start_time": "2022-06-25T07:52:53.646Z"
   },
   {
    "duration": 11,
    "start_time": "2022-06-25T07:53:09.551Z"
   },
   {
    "duration": 12,
    "start_time": "2022-06-25T07:53:23.736Z"
   },
   {
    "duration": 7,
    "start_time": "2022-06-25T07:53:27.987Z"
   },
   {
    "duration": 4,
    "start_time": "2022-06-25T07:54:01.679Z"
   },
   {
    "duration": 5,
    "start_time": "2022-06-25T07:54:12.375Z"
   },
   {
    "duration": 3,
    "start_time": "2022-06-25T07:54:27.880Z"
   },
   {
    "duration": 6,
    "start_time": "2022-06-25T07:54:51.483Z"
   },
   {
    "duration": 10,
    "start_time": "2022-06-25T07:55:19.681Z"
   },
   {
    "duration": 7,
    "start_time": "2022-06-25T07:55:31.035Z"
   },
   {
    "duration": 59,
    "start_time": "2022-06-25T07:56:47.394Z"
   },
   {
    "duration": 87,
    "start_time": "2022-06-25T08:02:43.996Z"
   },
   {
    "duration": 13,
    "start_time": "2022-06-25T08:03:35.583Z"
   },
   {
    "duration": 15,
    "start_time": "2022-06-25T08:04:22.675Z"
   },
   {
    "duration": 20,
    "start_time": "2022-06-25T08:04:32.748Z"
   },
   {
    "duration": 13,
    "start_time": "2022-06-25T08:04:52.779Z"
   },
   {
    "duration": 17,
    "start_time": "2022-06-25T08:05:41.123Z"
   },
   {
    "duration": 15,
    "start_time": "2022-06-25T08:06:10.093Z"
   },
   {
    "duration": 10,
    "start_time": "2022-06-25T08:06:21.678Z"
   },
   {
    "duration": 4,
    "start_time": "2022-06-25T08:08:03.106Z"
   },
   {
    "duration": 6,
    "start_time": "2022-06-25T08:08:16.252Z"
   },
   {
    "duration": 395,
    "start_time": "2022-06-25T08:08:49.172Z"
   },
   {
    "duration": 175,
    "start_time": "2022-06-25T08:08:49.569Z"
   },
   {
    "duration": 22,
    "start_time": "2022-06-25T08:08:49.746Z"
   },
   {
    "duration": 59,
    "start_time": "2022-06-25T08:08:49.771Z"
   },
   {
    "duration": 10,
    "start_time": "2022-06-25T08:08:49.833Z"
   },
   {
    "duration": 26,
    "start_time": "2022-06-25T08:08:49.845Z"
   },
   {
    "duration": 12,
    "start_time": "2022-06-25T08:08:49.873Z"
   },
   {
    "duration": 108,
    "start_time": "2022-06-25T08:08:49.887Z"
   },
   {
    "duration": 110,
    "start_time": "2022-06-25T08:08:49.997Z"
   },
   {
    "duration": 0,
    "start_time": "2022-06-25T08:08:50.111Z"
   },
   {
    "duration": 0,
    "start_time": "2022-06-25T08:08:50.113Z"
   },
   {
    "duration": 0,
    "start_time": "2022-06-25T08:08:50.114Z"
   },
   {
    "duration": 0,
    "start_time": "2022-06-25T08:08:50.115Z"
   },
   {
    "duration": 0,
    "start_time": "2022-06-25T08:08:50.127Z"
   },
   {
    "duration": 0,
    "start_time": "2022-06-25T08:08:50.127Z"
   },
   {
    "duration": 0,
    "start_time": "2022-06-25T08:08:50.129Z"
   },
   {
    "duration": 0,
    "start_time": "2022-06-25T08:08:50.130Z"
   },
   {
    "duration": 0,
    "start_time": "2022-06-25T08:08:50.132Z"
   },
   {
    "duration": 0,
    "start_time": "2022-06-25T08:08:50.133Z"
   },
   {
    "duration": 0,
    "start_time": "2022-06-25T08:08:50.134Z"
   },
   {
    "duration": 0,
    "start_time": "2022-06-25T08:08:50.136Z"
   },
   {
    "duration": 0,
    "start_time": "2022-06-25T08:08:50.137Z"
   },
   {
    "duration": 0,
    "start_time": "2022-06-25T08:08:50.138Z"
   },
   {
    "duration": 0,
    "start_time": "2022-06-25T08:08:50.140Z"
   },
   {
    "duration": 0,
    "start_time": "2022-06-25T08:08:50.141Z"
   },
   {
    "duration": 0,
    "start_time": "2022-06-25T08:08:50.141Z"
   },
   {
    "duration": 0,
    "start_time": "2022-06-25T08:08:50.142Z"
   },
   {
    "duration": 0,
    "start_time": "2022-06-25T08:08:50.143Z"
   },
   {
    "duration": 0,
    "start_time": "2022-06-25T08:08:50.144Z"
   },
   {
    "duration": 0,
    "start_time": "2022-06-25T08:08:50.145Z"
   },
   {
    "duration": 0,
    "start_time": "2022-06-25T08:08:50.145Z"
   },
   {
    "duration": 0,
    "start_time": "2022-06-25T08:08:50.146Z"
   },
   {
    "duration": 0,
    "start_time": "2022-06-25T08:08:50.147Z"
   },
   {
    "duration": 0,
    "start_time": "2022-06-25T08:08:50.148Z"
   },
   {
    "duration": 0,
    "start_time": "2022-06-25T08:08:50.149Z"
   },
   {
    "duration": 0,
    "start_time": "2022-06-25T08:08:50.150Z"
   },
   {
    "duration": 0,
    "start_time": "2022-06-25T08:08:50.151Z"
   },
   {
    "duration": 0,
    "start_time": "2022-06-25T08:08:50.152Z"
   },
   {
    "duration": 17,
    "start_time": "2022-06-25T08:09:10.576Z"
   },
   {
    "duration": 17,
    "start_time": "2022-06-25T08:09:13.516Z"
   },
   {
    "duration": 14,
    "start_time": "2022-06-25T08:09:18.949Z"
   },
   {
    "duration": 10,
    "start_time": "2022-06-25T08:09:22.105Z"
   },
   {
    "duration": 6,
    "start_time": "2022-06-25T08:09:26.781Z"
   },
   {
    "duration": 10,
    "start_time": "2022-06-25T08:09:48.142Z"
   },
   {
    "duration": 440,
    "start_time": "2022-06-25T08:10:40.606Z"
   },
   {
    "duration": 182,
    "start_time": "2022-06-25T08:10:48.802Z"
   },
   {
    "duration": 21,
    "start_time": "2022-06-25T08:10:51.534Z"
   },
   {
    "duration": 31,
    "start_time": "2022-06-25T08:10:56.224Z"
   },
   {
    "duration": 42,
    "start_time": "2022-06-25T08:16:42.149Z"
   },
   {
    "duration": 86,
    "start_time": "2022-06-25T08:16:47.534Z"
   },
   {
    "duration": 57,
    "start_time": "2022-06-25T08:17:21.596Z"
   },
   {
    "duration": 63,
    "start_time": "2022-06-25T08:17:25.107Z"
   },
   {
    "duration": 11,
    "start_time": "2022-06-25T08:18:17.107Z"
   },
   {
    "duration": 10,
    "start_time": "2022-06-25T08:18:20.642Z"
   },
   {
    "duration": 13,
    "start_time": "2022-06-25T08:19:07.622Z"
   },
   {
    "duration": 13,
    "start_time": "2022-06-25T08:19:10.975Z"
   },
   {
    "duration": 426,
    "start_time": "2022-06-25T08:20:27.419Z"
   },
   {
    "duration": 181,
    "start_time": "2022-06-25T08:20:29.832Z"
   },
   {
    "duration": 20,
    "start_time": "2022-06-25T08:20:32.109Z"
   },
   {
    "duration": 32,
    "start_time": "2022-06-25T08:20:35.498Z"
   },
   {
    "duration": 7,
    "start_time": "2022-06-25T08:20:39.640Z"
   },
   {
    "duration": 21,
    "start_time": "2022-06-25T08:27:33.343Z"
   },
   {
    "duration": 48,
    "start_time": "2022-06-25T08:27:36.881Z"
   },
   {
    "duration": 60,
    "start_time": "2022-06-25T08:28:07.448Z"
   },
   {
    "duration": 83,
    "start_time": "2022-06-25T08:28:37.685Z"
   },
   {
    "duration": 79,
    "start_time": "2022-06-25T08:28:42.043Z"
   },
   {
    "duration": 78,
    "start_time": "2022-06-25T08:28:45.908Z"
   },
   {
    "duration": 8,
    "start_time": "2022-06-25T08:28:57.125Z"
   },
   {
    "duration": 78,
    "start_time": "2022-06-25T08:29:10.996Z"
   },
   {
    "duration": 8,
    "start_time": "2022-06-25T08:29:38.683Z"
   },
   {
    "duration": 12,
    "start_time": "2022-06-25T08:35:39.687Z"
   },
   {
    "duration": 27,
    "start_time": "2022-06-25T08:37:23.815Z"
   },
   {
    "duration": 4,
    "start_time": "2022-06-25T08:37:48.517Z"
   },
   {
    "duration": 16,
    "start_time": "2022-06-25T08:38:01.976Z"
   },
   {
    "duration": 12,
    "start_time": "2022-06-25T08:38:09.296Z"
   },
   {
    "duration": 41,
    "start_time": "2022-06-25T08:48:28.114Z"
   },
   {
    "duration": 17,
    "start_time": "2022-06-25T08:48:48.833Z"
   },
   {
    "duration": 12,
    "start_time": "2022-06-25T08:49:22.339Z"
   },
   {
    "duration": 15,
    "start_time": "2022-06-25T08:51:16.481Z"
   },
   {
    "duration": 502,
    "start_time": "2022-06-25T08:51:58.081Z"
   },
   {
    "duration": 273,
    "start_time": "2022-06-25T08:52:00.227Z"
   },
   {
    "duration": 27,
    "start_time": "2022-06-25T08:52:02.205Z"
   },
   {
    "duration": 58,
    "start_time": "2022-06-25T08:52:05.627Z"
   },
   {
    "duration": 12,
    "start_time": "2022-06-25T08:52:10.190Z"
   },
   {
    "duration": 19,
    "start_time": "2022-06-25T08:52:13.854Z"
   },
   {
    "duration": 13,
    "start_time": "2022-06-25T08:52:19.087Z"
   },
   {
    "duration": 72,
    "start_time": "2022-06-25T08:52:22.044Z"
   },
   {
    "duration": 26,
    "start_time": "2022-06-25T09:26:27.743Z"
   },
   {
    "duration": 54,
    "start_time": "2022-06-25T09:26:32.343Z"
   },
   {
    "duration": 45,
    "start_time": "2022-06-25T09:26:47.269Z"
   },
   {
    "duration": 96,
    "start_time": "2022-06-25T09:26:53.469Z"
   },
   {
    "duration": 89,
    "start_time": "2022-06-25T09:26:58.707Z"
   },
   {
    "duration": 98,
    "start_time": "2022-06-25T09:27:00.921Z"
   },
   {
    "duration": 51,
    "start_time": "2022-06-25T09:27:59.470Z"
   },
   {
    "duration": 102,
    "start_time": "2022-06-25T09:30:20.943Z"
   },
   {
    "duration": 11,
    "start_time": "2022-06-25T09:31:01.444Z"
   },
   {
    "duration": 8,
    "start_time": "2022-06-25T09:31:13.113Z"
   },
   {
    "duration": 63,
    "start_time": "2022-06-25T09:32:04.297Z"
   },
   {
    "duration": 466,
    "start_time": "2022-06-25T09:32:32.403Z"
   },
   {
    "duration": 213,
    "start_time": "2022-06-25T09:32:34.643Z"
   },
   {
    "duration": 18,
    "start_time": "2022-06-25T09:32:36.706Z"
   },
   {
    "duration": 42,
    "start_time": "2022-06-25T09:32:39.214Z"
   },
   {
    "duration": 7,
    "start_time": "2022-06-25T09:32:42.817Z"
   },
   {
    "duration": 14,
    "start_time": "2022-06-25T09:32:46.642Z"
   },
   {
    "duration": 7,
    "start_time": "2022-06-25T09:32:49.683Z"
   },
   {
    "duration": 50,
    "start_time": "2022-06-25T09:32:52.646Z"
   },
   {
    "duration": 29,
    "start_time": "2022-06-25T09:32:55.810Z"
   },
   {
    "duration": 46,
    "start_time": "2022-06-25T09:32:59.466Z"
   },
   {
    "duration": 75,
    "start_time": "2022-06-25T09:33:02.481Z"
   },
   {
    "duration": 86,
    "start_time": "2022-06-25T09:33:05.273Z"
   },
   {
    "duration": 69,
    "start_time": "2022-06-25T09:33:07.713Z"
   },
   {
    "duration": 8,
    "start_time": "2022-06-25T09:33:10.867Z"
   },
   {
    "duration": 79,
    "start_time": "2022-06-25T09:33:21.293Z"
   },
   {
    "duration": 9,
    "start_time": "2022-06-25T09:34:33.998Z"
   },
   {
    "duration": 79,
    "start_time": "2022-06-25T09:35:31.248Z"
   },
   {
    "duration": 60,
    "start_time": "2022-06-25T09:37:18.780Z"
   },
   {
    "duration": 49,
    "start_time": "2022-06-25T09:37:38.237Z"
   },
   {
    "duration": 6,
    "start_time": "2022-06-25T09:37:48.346Z"
   },
   {
    "duration": 59,
    "start_time": "2022-06-25T09:38:52.769Z"
   },
   {
    "duration": 57,
    "start_time": "2022-06-25T09:39:18.501Z"
   },
   {
    "duration": 369,
    "start_time": "2022-06-25T09:41:26.080Z"
   },
   {
    "duration": 186,
    "start_time": "2022-06-25T09:41:27.891Z"
   },
   {
    "duration": 18,
    "start_time": "2022-06-25T09:41:29.463Z"
   },
   {
    "duration": 31,
    "start_time": "2022-06-25T09:41:30.930Z"
   },
   {
    "duration": 10,
    "start_time": "2022-06-25T09:41:34.777Z"
   },
   {
    "duration": 15,
    "start_time": "2022-06-25T09:41:37.292Z"
   },
   {
    "duration": 7,
    "start_time": "2022-06-25T09:41:39.407Z"
   },
   {
    "duration": 58,
    "start_time": "2022-06-25T09:41:41.211Z"
   },
   {
    "duration": 21,
    "start_time": "2022-06-25T09:41:43.745Z"
   },
   {
    "duration": 53,
    "start_time": "2022-06-25T09:41:49.564Z"
   },
   {
    "duration": 78,
    "start_time": "2022-06-25T09:41:52.093Z"
   },
   {
    "duration": 113,
    "start_time": "2022-06-25T09:41:54.252Z"
   },
   {
    "duration": 67,
    "start_time": "2022-06-25T09:41:56.665Z"
   },
   {
    "duration": 8,
    "start_time": "2022-06-25T09:41:59.180Z"
   },
   {
    "duration": 65,
    "start_time": "2022-06-25T09:43:41.723Z"
   },
   {
    "duration": 47,
    "start_time": "2022-06-25T23:47:36.639Z"
   },
   {
    "duration": 413,
    "start_time": "2022-06-25T23:47:53.709Z"
   },
   {
    "duration": 236,
    "start_time": "2022-06-25T23:47:54.123Z"
   },
   {
    "duration": 18,
    "start_time": "2022-06-25T23:47:54.361Z"
   },
   {
    "duration": 48,
    "start_time": "2022-06-25T23:47:54.383Z"
   },
   {
    "duration": 31,
    "start_time": "2022-06-25T23:47:54.433Z"
   },
   {
    "duration": 20,
    "start_time": "2022-06-25T23:47:54.466Z"
   },
   {
    "duration": 18,
    "start_time": "2022-06-25T23:47:54.488Z"
   },
   {
    "duration": 81,
    "start_time": "2022-06-25T23:47:54.508Z"
   },
   {
    "duration": 22,
    "start_time": "2022-06-25T23:47:54.590Z"
   },
   {
    "duration": 71,
    "start_time": "2022-06-25T23:47:54.614Z"
   },
   {
    "duration": 83,
    "start_time": "2022-06-25T23:47:54.687Z"
   },
   {
    "duration": 88,
    "start_time": "2022-06-25T23:47:54.772Z"
   },
   {
    "duration": 99,
    "start_time": "2022-06-25T23:47:54.864Z"
   },
   {
    "duration": 8,
    "start_time": "2022-06-25T23:47:54.965Z"
   },
   {
    "duration": 91,
    "start_time": "2022-06-25T23:47:54.974Z"
   },
   {
    "duration": 2,
    "start_time": "2022-06-25T23:47:55.067Z"
   },
   {
    "duration": 73,
    "start_time": "2022-06-25T23:47:55.071Z"
   },
   {
    "duration": 4456,
    "start_time": "2022-06-25T23:47:55.145Z"
   },
   {
    "duration": 2,
    "start_time": "2022-06-25T23:47:59.603Z"
   },
   {
    "duration": 13,
    "start_time": "2022-06-25T23:47:59.607Z"
   },
   {
    "duration": 13,
    "start_time": "2022-06-25T23:47:59.621Z"
   },
   {
    "duration": 8,
    "start_time": "2022-06-25T23:47:59.637Z"
   },
   {
    "duration": 7,
    "start_time": "2022-06-25T23:47:59.647Z"
   },
   {
    "duration": 8,
    "start_time": "2022-06-25T23:47:59.656Z"
   },
   {
    "duration": 5,
    "start_time": "2022-06-25T23:47:59.666Z"
   },
   {
    "duration": 8,
    "start_time": "2022-06-25T23:47:59.672Z"
   },
   {
    "duration": 23,
    "start_time": "2022-06-25T23:47:59.681Z"
   },
   {
    "duration": 10,
    "start_time": "2022-06-25T23:47:59.706Z"
   },
   {
    "duration": 12,
    "start_time": "2022-06-25T23:47:59.717Z"
   },
   {
    "duration": 9,
    "start_time": "2022-06-25T23:47:59.731Z"
   },
   {
    "duration": 11,
    "start_time": "2022-06-25T23:47:59.742Z"
   },
   {
    "duration": 9,
    "start_time": "2022-06-25T23:47:59.755Z"
   },
   {
    "duration": 7,
    "start_time": "2022-06-25T23:47:59.766Z"
   },
   {
    "duration": 4,
    "start_time": "2022-06-25T23:47:59.775Z"
   },
   {
    "duration": 5,
    "start_time": "2022-06-25T23:47:59.781Z"
   },
   {
    "duration": 6,
    "start_time": "2022-06-25T23:47:59.788Z"
   },
   {
    "duration": 8,
    "start_time": "2022-06-25T23:47:59.795Z"
   },
   {
    "duration": 5,
    "start_time": "2022-06-25T23:47:59.805Z"
   },
   {
    "duration": 69,
    "start_time": "2022-06-25T23:48:34.789Z"
   },
   {
    "duration": 3598,
    "start_time": "2022-06-25T23:48:52.757Z"
   },
   {
    "duration": 19,
    "start_time": "2022-06-25T23:50:20.501Z"
   },
   {
    "duration": 22,
    "start_time": "2022-06-25T23:58:58.223Z"
   },
   {
    "duration": 26,
    "start_time": "2022-06-26T00:00:00.304Z"
   },
   {
    "duration": 39,
    "start_time": "2022-06-26T00:00:16.716Z"
   },
   {
    "duration": 39,
    "start_time": "2022-06-26T00:20:08.117Z"
   },
   {
    "duration": 31,
    "start_time": "2022-06-26T00:23:28.917Z"
   },
   {
    "duration": 34,
    "start_time": "2022-06-26T00:23:50.204Z"
   },
   {
    "duration": 29,
    "start_time": "2022-06-26T00:24:18.498Z"
   },
   {
    "duration": 28,
    "start_time": "2022-06-26T00:25:30.400Z"
   },
   {
    "duration": 29,
    "start_time": "2022-06-26T00:26:00.507Z"
   },
   {
    "duration": 1094,
    "start_time": "2022-06-26T00:26:14.051Z"
   },
   {
    "duration": 26,
    "start_time": "2022-06-26T00:26:39.029Z"
   },
   {
    "duration": 35,
    "start_time": "2022-06-26T00:31:59.051Z"
   },
   {
    "duration": 51,
    "start_time": "2022-06-26T00:33:03.255Z"
   },
   {
    "duration": 62,
    "start_time": "2022-06-26T00:33:10.535Z"
   },
   {
    "duration": 55,
    "start_time": "2022-06-26T00:33:42.348Z"
   },
   {
    "duration": 51,
    "start_time": "2022-06-26T01:16:00.880Z"
   },
   {
    "duration": 6,
    "start_time": "2022-06-26T01:26:01.890Z"
   },
   {
    "duration": 18,
    "start_time": "2022-06-26T01:26:10.313Z"
   },
   {
    "duration": 9,
    "start_time": "2022-06-26T01:26:13.758Z"
   },
   {
    "duration": 13,
    "start_time": "2022-06-26T01:26:52.617Z"
   },
   {
    "duration": 40,
    "start_time": "2022-06-26T01:27:29.020Z"
   },
   {
    "duration": 171,
    "start_time": "2022-06-26T01:28:10.209Z"
   },
   {
    "duration": 583,
    "start_time": "2022-06-26T01:28:29.893Z"
   },
   {
    "duration": 27,
    "start_time": "2022-06-26T01:29:30.002Z"
   },
   {
    "duration": 23,
    "start_time": "2022-06-26T01:29:53.123Z"
   },
   {
    "duration": 24,
    "start_time": "2022-06-26T01:31:37.879Z"
   },
   {
    "duration": 7,
    "start_time": "2022-06-26T01:32:35.947Z"
   },
   {
    "duration": 10,
    "start_time": "2022-06-26T01:33:13.413Z"
   },
   {
    "duration": 8,
    "start_time": "2022-06-26T01:33:25.401Z"
   },
   {
    "duration": 56,
    "start_time": "2022-06-26T01:37:12.809Z"
   },
   {
    "duration": 57,
    "start_time": "2022-06-26T01:37:41.060Z"
   },
   {
    "duration": 57,
    "start_time": "2022-06-26T01:38:25.694Z"
   },
   {
    "duration": 10,
    "start_time": "2022-06-26T03:01:17.221Z"
   },
   {
    "duration": 13,
    "start_time": "2022-06-26T03:02:48.542Z"
   },
   {
    "duration": 16,
    "start_time": "2022-06-26T03:03:18.632Z"
   },
   {
    "duration": 18,
    "start_time": "2022-06-26T03:03:43.707Z"
   },
   {
    "duration": 24,
    "start_time": "2022-06-26T03:19:04.306Z"
   },
   {
    "duration": 16,
    "start_time": "2022-06-26T03:19:33.101Z"
   },
   {
    "duration": 411,
    "start_time": "2022-06-26T03:48:24.903Z"
   },
   {
    "duration": 157,
    "start_time": "2022-06-26T03:48:26.720Z"
   },
   {
    "duration": 17,
    "start_time": "2022-06-26T03:48:30.114Z"
   },
   {
    "duration": 31,
    "start_time": "2022-06-26T03:48:33.397Z"
   },
   {
    "duration": 7,
    "start_time": "2022-06-26T03:48:38.081Z"
   },
   {
    "duration": 60,
    "start_time": "2022-06-26T03:48:58.953Z"
   },
   {
    "duration": 6,
    "start_time": "2022-06-26T03:49:13.503Z"
   },
   {
    "duration": 13,
    "start_time": "2022-06-26T03:49:21.078Z"
   },
   {
    "duration": 6,
    "start_time": "2022-06-26T03:49:24.097Z"
   },
   {
    "duration": 42,
    "start_time": "2022-06-26T03:49:28.205Z"
   },
   {
    "duration": 18,
    "start_time": "2022-06-26T03:49:33.657Z"
   },
   {
    "duration": 42,
    "start_time": "2022-06-26T03:49:39.010Z"
   },
   {
    "duration": 61,
    "start_time": "2022-06-26T03:49:47.026Z"
   },
   {
    "duration": 73,
    "start_time": "2022-06-26T03:49:49.743Z"
   },
   {
    "duration": 56,
    "start_time": "2022-06-26T03:49:54.387Z"
   },
   {
    "duration": 9,
    "start_time": "2022-06-26T03:49:59.589Z"
   },
   {
    "duration": 8,
    "start_time": "2022-06-26T03:51:02.413Z"
   },
   {
    "duration": 48,
    "start_time": "2022-06-26T03:56:33.630Z"
   },
   {
    "duration": 100,
    "start_time": "2022-06-26T04:39:52.797Z"
   },
   {
    "duration": 4,
    "start_time": "2022-06-26T04:40:24.449Z"
   },
   {
    "duration": 13,
    "start_time": "2022-06-26T04:44:06.274Z"
   },
   {
    "duration": 14,
    "start_time": "2022-06-26T04:44:22.765Z"
   },
   {
    "duration": 50,
    "start_time": "2022-06-26T04:44:45.587Z"
   },
   {
    "duration": 5,
    "start_time": "2022-06-26T04:45:31.638Z"
   },
   {
    "duration": 13,
    "start_time": "2022-06-26T04:45:35.809Z"
   },
   {
    "duration": 12,
    "start_time": "2022-06-26T04:46:10.189Z"
   },
   {
    "duration": 12,
    "start_time": "2022-06-26T04:46:34.518Z"
   },
   {
    "duration": 7,
    "start_time": "2022-06-26T04:47:46.189Z"
   },
   {
    "duration": 10,
    "start_time": "2022-06-26T04:48:41.858Z"
   },
   {
    "duration": 2,
    "start_time": "2022-06-26T04:49:23.956Z"
   },
   {
    "duration": 172,
    "start_time": "2022-06-26T04:49:26.455Z"
   },
   {
    "duration": 11,
    "start_time": "2022-06-26T04:49:28.746Z"
   },
   {
    "duration": 40,
    "start_time": "2022-06-26T04:49:32.106Z"
   },
   {
    "duration": 6,
    "start_time": "2022-06-26T04:49:36.013Z"
   },
   {
    "duration": 10,
    "start_time": "2022-06-26T04:49:38.608Z"
   },
   {
    "duration": 44,
    "start_time": "2022-06-26T04:49:41.101Z"
   },
   {
    "duration": 19,
    "start_time": "2022-06-26T04:49:52.762Z"
   },
   {
    "duration": 42,
    "start_time": "2022-06-26T04:49:57.974Z"
   },
   {
    "duration": 69,
    "start_time": "2022-06-26T04:50:02.777Z"
   },
   {
    "duration": 71,
    "start_time": "2022-06-26T04:50:05.495Z"
   },
   {
    "duration": 53,
    "start_time": "2022-06-26T04:50:08.109Z"
   },
   {
    "duration": 7,
    "start_time": "2022-06-26T04:50:11.699Z"
   },
   {
    "duration": 3,
    "start_time": "2022-06-26T04:50:31.162Z"
   },
   {
    "duration": 3,
    "start_time": "2022-06-26T04:50:46.443Z"
   },
   {
    "duration": 17,
    "start_time": "2022-06-26T04:54:52.017Z"
   },
   {
    "duration": 19,
    "start_time": "2022-06-26T04:55:38.236Z"
   },
   {
    "duration": 12,
    "start_time": "2022-06-26T04:55:54.644Z"
   },
   {
    "duration": 9,
    "start_time": "2022-06-26T04:56:05.139Z"
   },
   {
    "duration": 72,
    "start_time": "2022-06-26T04:56:13.373Z"
   },
   {
    "duration": 7,
    "start_time": "2022-06-26T04:56:49.544Z"
   },
   {
    "duration": 3,
    "start_time": "2022-06-26T05:00:18.068Z"
   },
   {
    "duration": 9,
    "start_time": "2022-06-26T05:00:20.944Z"
   },
   {
    "duration": 7,
    "start_time": "2022-06-26T05:01:33.174Z"
   },
   {
    "duration": 11,
    "start_time": "2022-06-26T05:03:47.723Z"
   },
   {
    "duration": 6,
    "start_time": "2022-06-26T05:05:07.597Z"
   },
   {
    "duration": 10,
    "start_time": "2022-06-26T05:06:16.181Z"
   },
   {
    "duration": 24,
    "start_time": "2022-06-26T05:07:03.563Z"
   },
   {
    "duration": 33,
    "start_time": "2022-06-26T05:07:10.433Z"
   },
   {
    "duration": 93,
    "start_time": "2022-06-26T05:12:09.141Z"
   },
   {
    "duration": 64,
    "start_time": "2022-06-26T05:12:30.162Z"
   },
   {
    "duration": 6,
    "start_time": "2022-06-26T05:14:22.014Z"
   },
   {
    "duration": 5,
    "start_time": "2022-06-26T05:14:39.274Z"
   },
   {
    "duration": 6,
    "start_time": "2022-06-26T05:15:45.608Z"
   },
   {
    "duration": 40,
    "start_time": "2022-06-26T05:16:06.977Z"
   },
   {
    "duration": 9,
    "start_time": "2022-06-26T05:16:36.528Z"
   },
   {
    "duration": 36,
    "start_time": "2022-06-26T05:16:43.326Z"
   },
   {
    "duration": 42,
    "start_time": "2022-06-26T05:17:05.618Z"
   },
   {
    "duration": 50,
    "start_time": "2022-06-26T05:17:11.451Z"
   },
   {
    "duration": 39,
    "start_time": "2022-06-26T05:20:33.545Z"
   },
   {
    "duration": 42,
    "start_time": "2022-06-26T05:21:03.252Z"
   },
   {
    "duration": 40,
    "start_time": "2022-06-26T05:21:07.617Z"
   },
   {
    "duration": 39,
    "start_time": "2022-06-26T05:22:10.697Z"
   },
   {
    "duration": 38,
    "start_time": "2022-06-26T05:22:17.260Z"
   },
   {
    "duration": 39,
    "start_time": "2022-06-26T05:22:57.102Z"
   },
   {
    "duration": 17,
    "start_time": "2022-06-26T05:23:40.789Z"
   },
   {
    "duration": 15,
    "start_time": "2022-06-26T05:23:43.241Z"
   },
   {
    "duration": 76,
    "start_time": "2022-06-26T05:42:25.982Z"
   },
   {
    "duration": 4,
    "start_time": "2022-06-26T05:43:04.542Z"
   },
   {
    "duration": 7,
    "start_time": "2022-06-26T05:44:44.742Z"
   },
   {
    "duration": 15,
    "start_time": "2022-06-26T05:44:51.140Z"
   },
   {
    "duration": 18,
    "start_time": "2022-06-26T05:45:11.132Z"
   },
   {
    "duration": 15,
    "start_time": "2022-06-26T05:45:43.859Z"
   },
   {
    "duration": 16,
    "start_time": "2022-06-26T05:46:12.926Z"
   },
   {
    "duration": 14,
    "start_time": "2022-06-26T05:46:29.328Z"
   },
   {
    "duration": 16,
    "start_time": "2022-06-26T05:46:57.647Z"
   },
   {
    "duration": 15,
    "start_time": "2022-06-26T05:48:10.686Z"
   },
   {
    "duration": 11,
    "start_time": "2022-06-26T05:50:37.352Z"
   },
   {
    "duration": 14,
    "start_time": "2022-06-26T05:51:38.238Z"
   },
   {
    "duration": 15,
    "start_time": "2022-06-26T05:51:56.205Z"
   },
   {
    "duration": 17,
    "start_time": "2022-06-26T05:52:51.557Z"
   },
   {
    "duration": 14,
    "start_time": "2022-06-26T05:52:56.976Z"
   },
   {
    "duration": 15,
    "start_time": "2022-06-26T05:53:09.308Z"
   },
   {
    "duration": 13,
    "start_time": "2022-06-26T05:53:12.578Z"
   },
   {
    "duration": 13,
    "start_time": "2022-06-26T05:53:14.292Z"
   },
   {
    "duration": 17,
    "start_time": "2022-06-26T05:53:15.973Z"
   },
   {
    "duration": 23,
    "start_time": "2022-06-26T05:53:17.849Z"
   },
   {
    "duration": 9,
    "start_time": "2022-06-26T05:56:56.496Z"
   },
   {
    "duration": 6,
    "start_time": "2022-06-26T05:57:44.340Z"
   },
   {
    "duration": 9,
    "start_time": "2022-06-26T05:57:53.037Z"
   },
   {
    "duration": 11,
    "start_time": "2022-06-26T06:00:04.073Z"
   },
   {
    "duration": 11,
    "start_time": "2022-06-26T06:00:05.726Z"
   },
   {
    "duration": 4,
    "start_time": "2022-06-26T06:12:17.974Z"
   },
   {
    "duration": 1335,
    "start_time": "2022-06-26T06:14:22.079Z"
   },
   {
    "duration": 981,
    "start_time": "2022-06-26T06:14:42.678Z"
   },
   {
    "duration": 3,
    "start_time": "2022-06-26T06:15:18.382Z"
   },
   {
    "duration": 4,
    "start_time": "2022-06-26T06:15:22.135Z"
   },
   {
    "duration": 4,
    "start_time": "2022-06-26T06:15:44.924Z"
   },
   {
    "duration": 11,
    "start_time": "2022-06-26T06:15:48.752Z"
   },
   {
    "duration": 10,
    "start_time": "2022-06-26T06:15:50.842Z"
   },
   {
    "duration": 4,
    "start_time": "2022-06-26T06:15:53.278Z"
   },
   {
    "duration": 811,
    "start_time": "2022-06-26T06:15:57.693Z"
   },
   {
    "duration": 22,
    "start_time": "2022-06-26T06:18:21.173Z"
   },
   {
    "duration": 4,
    "start_time": "2022-06-26T06:18:45.646Z"
   },
   {
    "duration": 3,
    "start_time": "2022-06-26T06:20:26.303Z"
   },
   {
    "duration": 404,
    "start_time": "2022-06-26T06:21:03.118Z"
   },
   {
    "duration": 168,
    "start_time": "2022-06-26T06:21:05.233Z"
   },
   {
    "duration": 18,
    "start_time": "2022-06-26T06:21:07.441Z"
   },
   {
    "duration": 30,
    "start_time": "2022-06-26T06:21:10.210Z"
   },
   {
    "duration": 10,
    "start_time": "2022-06-26T06:21:13.978Z"
   },
   {
    "duration": 14,
    "start_time": "2022-06-26T06:21:17.269Z"
   },
   {
    "duration": 7,
    "start_time": "2022-06-26T06:21:19.630Z"
   },
   {
    "duration": 45,
    "start_time": "2022-06-26T06:21:21.834Z"
   },
   {
    "duration": 30,
    "start_time": "2022-06-26T06:21:27.609Z"
   },
   {
    "duration": 62,
    "start_time": "2022-06-26T06:21:31.578Z"
   },
   {
    "duration": 63,
    "start_time": "2022-06-26T06:21:40.738Z"
   },
   {
    "duration": 82,
    "start_time": "2022-06-26T06:21:43.139Z"
   },
   {
    "duration": 70,
    "start_time": "2022-06-26T06:21:45.672Z"
   },
   {
    "duration": 38,
    "start_time": "2022-06-26T06:21:47.890Z"
   },
   {
    "duration": 3,
    "start_time": "2022-06-26T06:21:50.833Z"
   },
   {
    "duration": 10,
    "start_time": "2022-06-26T06:21:52.698Z"
   },
   {
    "duration": 40,
    "start_time": "2022-06-26T06:21:55.179Z"
   },
   {
    "duration": 16,
    "start_time": "2022-06-26T06:21:59.714Z"
   },
   {
    "duration": 16,
    "start_time": "2022-06-26T06:22:01.957Z"
   },
   {
    "duration": 3,
    "start_time": "2022-06-26T06:22:06.290Z"
   },
   {
    "duration": 17,
    "start_time": "2022-06-26T06:22:09.587Z"
   },
   {
    "duration": 17,
    "start_time": "2022-06-26T06:22:11.650Z"
   },
   {
    "duration": 15,
    "start_time": "2022-06-26T06:22:13.166Z"
   },
   {
    "duration": 14,
    "start_time": "2022-06-26T06:22:14.385Z"
   },
   {
    "duration": 16,
    "start_time": "2022-06-26T06:22:15.575Z"
   },
   {
    "duration": 16,
    "start_time": "2022-06-26T06:22:16.668Z"
   },
   {
    "duration": 9,
    "start_time": "2022-06-26T06:22:19.768Z"
   },
   {
    "duration": 22,
    "start_time": "2022-06-26T06:22:23.594Z"
   },
   {
    "duration": 10,
    "start_time": "2022-06-26T06:22:28.044Z"
   },
   {
    "duration": 60,
    "start_time": "2022-06-26T06:23:13.403Z"
   },
   {
    "duration": 3,
    "start_time": "2022-06-26T06:23:17.773Z"
   },
   {
    "duration": 960,
    "start_time": "2022-06-26T06:23:27.349Z"
   },
   {
    "duration": 4,
    "start_time": "2022-06-26T06:28:41.492Z"
   },
   {
    "duration": 3,
    "start_time": "2022-06-26T06:28:54.137Z"
   },
   {
    "duration": 3,
    "start_time": "2022-06-26T06:28:57.576Z"
   },
   {
    "duration": 728,
    "start_time": "2022-06-26T06:29:02.803Z"
   },
   {
    "duration": 3,
    "start_time": "2022-06-26T06:29:27.032Z"
   },
   {
    "duration": 3,
    "start_time": "2022-06-26T06:29:43.715Z"
   },
   {
    "duration": 4,
    "start_time": "2022-06-26T06:30:07.453Z"
   },
   {
    "duration": 3,
    "start_time": "2022-06-26T06:30:27.183Z"
   },
   {
    "duration": 18,
    "start_time": "2022-06-26T06:30:36.877Z"
   },
   {
    "duration": 15,
    "start_time": "2022-06-26T06:31:04.563Z"
   },
   {
    "duration": 17,
    "start_time": "2022-06-26T06:31:07.542Z"
   },
   {
    "duration": 14,
    "start_time": "2022-06-26T06:31:12.490Z"
   },
   {
    "duration": 63,
    "start_time": "2022-06-26T06:32:39.912Z"
   },
   {
    "duration": 4,
    "start_time": "2022-06-26T06:34:02.842Z"
   },
   {
    "duration": 5,
    "start_time": "2022-06-26T06:34:22.577Z"
   },
   {
    "duration": 6,
    "start_time": "2022-06-26T06:34:27.684Z"
   },
   {
    "duration": 4,
    "start_time": "2022-06-26T06:35:06.023Z"
   },
   {
    "duration": 852,
    "start_time": "2022-06-26T06:35:08.447Z"
   },
   {
    "duration": 3,
    "start_time": "2022-06-26T06:35:40.237Z"
   },
   {
    "duration": 805,
    "start_time": "2022-06-26T06:35:43.007Z"
   },
   {
    "duration": 5,
    "start_time": "2022-06-26T06:36:11.601Z"
   },
   {
    "duration": 870,
    "start_time": "2022-06-26T06:36:14.308Z"
   },
   {
    "duration": 4,
    "start_time": "2022-06-26T06:36:42.254Z"
   },
   {
    "duration": 19,
    "start_time": "2022-06-26T06:36:44.858Z"
   },
   {
    "duration": 8,
    "start_time": "2022-06-26T06:38:05.458Z"
   },
   {
    "duration": 11,
    "start_time": "2022-06-26T06:38:18.594Z"
   },
   {
    "duration": 8,
    "start_time": "2022-06-26T06:38:23.904Z"
   },
   {
    "duration": 13,
    "start_time": "2022-06-26T06:38:51.392Z"
   },
   {
    "duration": 19,
    "start_time": "2022-06-26T06:41:25.444Z"
   },
   {
    "duration": 11,
    "start_time": "2022-06-26T06:41:47.684Z"
   },
   {
    "duration": 25,
    "start_time": "2022-06-26T06:42:23.656Z"
   },
   {
    "duration": 17,
    "start_time": "2022-06-26T06:42:33.095Z"
   },
   {
    "duration": 12,
    "start_time": "2022-06-26T06:42:36.667Z"
   },
   {
    "duration": 18,
    "start_time": "2022-06-26T06:42:58.842Z"
   },
   {
    "duration": 416,
    "start_time": "2022-06-26T06:43:44.602Z"
   },
   {
    "duration": 167,
    "start_time": "2022-06-26T06:43:48.274Z"
   },
   {
    "duration": 16,
    "start_time": "2022-06-26T06:43:51.132Z"
   },
   {
    "duration": 30,
    "start_time": "2022-06-26T06:43:57.094Z"
   },
   {
    "duration": 68,
    "start_time": "2022-06-26T06:44:29.504Z"
   },
   {
    "duration": 7,
    "start_time": "2022-06-26T06:47:09.095Z"
   },
   {
    "duration": 9,
    "start_time": "2022-06-26T06:47:23.199Z"
   },
   {
    "duration": 6,
    "start_time": "2022-06-26T06:47:31.884Z"
   },
   {
    "duration": 10,
    "start_time": "2022-06-26T06:47:39.364Z"
   },
   {
    "duration": 8,
    "start_time": "2022-06-26T06:47:42.059Z"
   },
   {
    "duration": 8,
    "start_time": "2022-06-26T06:49:21.899Z"
   },
   {
    "duration": 420,
    "start_time": "2022-06-26T06:50:38.923Z"
   },
   {
    "duration": 218,
    "start_time": "2022-06-26T06:50:41.588Z"
   },
   {
    "duration": 16,
    "start_time": "2022-06-26T06:50:43.465Z"
   },
   {
    "duration": 33,
    "start_time": "2022-06-26T06:50:46.147Z"
   },
   {
    "duration": 6,
    "start_time": "2022-06-26T06:50:50.805Z"
   },
   {
    "duration": 4,
    "start_time": "2022-06-26T06:51:04.553Z"
   },
   {
    "duration": 78,
    "start_time": "2022-06-26T06:51:19.594Z"
   },
   {
    "duration": 11,
    "start_time": "2022-06-26T06:51:30.936Z"
   },
   {
    "duration": 15,
    "start_time": "2022-06-26T06:51:35.484Z"
   },
   {
    "duration": 7,
    "start_time": "2022-06-26T06:51:37.557Z"
   },
   {
    "duration": 447,
    "start_time": "2022-06-26T06:52:09.213Z"
   },
   {
    "duration": 196,
    "start_time": "2022-06-26T06:52:10.713Z"
   },
   {
    "duration": 19,
    "start_time": "2022-06-26T06:52:12.354Z"
   },
   {
    "duration": 33,
    "start_time": "2022-06-26T06:52:15.149Z"
   },
   {
    "duration": 5,
    "start_time": "2022-06-26T06:52:20.458Z"
   },
   {
    "duration": 13,
    "start_time": "2022-06-26T06:52:23.871Z"
   },
   {
    "duration": 4,
    "start_time": "2022-06-26T06:52:35.600Z"
   },
   {
    "duration": 45,
    "start_time": "2022-06-26T06:52:47.559Z"
   },
   {
    "duration": 19,
    "start_time": "2022-06-26T06:52:50.264Z"
   },
   {
    "duration": 71,
    "start_time": "2022-06-26T06:52:52.700Z"
   },
   {
    "duration": 72,
    "start_time": "2022-06-26T06:53:06.060Z"
   },
   {
    "duration": 102,
    "start_time": "2022-06-26T06:53:11.103Z"
   },
   {
    "duration": 68,
    "start_time": "2022-06-26T06:53:14.354Z"
   },
   {
    "duration": 60,
    "start_time": "2022-06-26T06:53:24.698Z"
   },
   {
    "duration": 47,
    "start_time": "2022-06-26T06:53:41.609Z"
   },
   {
    "duration": 76,
    "start_time": "2022-06-26T06:53:47.124Z"
   },
   {
    "duration": 54,
    "start_time": "2022-06-26T06:53:50.071Z"
   },
   {
    "duration": 51,
    "start_time": "2022-06-26T06:53:53.371Z"
   },
   {
    "duration": 45,
    "start_time": "2022-06-26T06:54:00.170Z"
   },
   {
    "duration": 3,
    "start_time": "2022-06-26T06:54:13.868Z"
   },
   {
    "duration": 10,
    "start_time": "2022-06-26T06:54:19.193Z"
   },
   {
    "duration": 17,
    "start_time": "2022-06-26T06:54:36.170Z"
   },
   {
    "duration": 33,
    "start_time": "2022-06-26T06:54:39.421Z"
   },
   {
    "duration": 4,
    "start_time": "2022-06-26T06:54:43.705Z"
   },
   {
    "duration": 17,
    "start_time": "2022-06-26T06:54:46.297Z"
   },
   {
    "duration": 13,
    "start_time": "2022-06-26T06:54:48.589Z"
   },
   {
    "duration": 14,
    "start_time": "2022-06-26T06:54:50.591Z"
   },
   {
    "duration": 16,
    "start_time": "2022-06-26T06:54:52.497Z"
   },
   {
    "duration": 30,
    "start_time": "2022-06-26T06:54:54.513Z"
   },
   {
    "duration": 101,
    "start_time": "2022-06-26T06:54:58.999Z"
   },
   {
    "duration": 26,
    "start_time": "2022-06-26T06:55:06.479Z"
   },
   {
    "duration": 9,
    "start_time": "2022-06-26T06:55:09.486Z"
   },
   {
    "duration": 17,
    "start_time": "2022-06-26T06:55:21.753Z"
   },
   {
    "duration": 22,
    "start_time": "2022-06-26T06:55:23.721Z"
   },
   {
    "duration": 7,
    "start_time": "2022-06-26T06:55:26.548Z"
   },
   {
    "duration": 17,
    "start_time": "2022-06-26T06:55:30.297Z"
   },
   {
    "duration": 25,
    "start_time": "2022-06-26T06:55:39.221Z"
   },
   {
    "duration": 24,
    "start_time": "2022-06-26T06:55:45.144Z"
   },
   {
    "duration": 14,
    "start_time": "2022-06-26T06:55:48.051Z"
   },
   {
    "duration": 110,
    "start_time": "2022-06-26T07:02:00.987Z"
   },
   {
    "duration": 3,
    "start_time": "2022-06-26T07:03:22.079Z"
   },
   {
    "duration": 4,
    "start_time": "2022-06-26T07:06:31.321Z"
   },
   {
    "duration": 3,
    "start_time": "2022-06-26T07:06:55.158Z"
   },
   {
    "duration": 27,
    "start_time": "2022-06-26T07:08:24.669Z"
   },
   {
    "duration": 9,
    "start_time": "2022-06-26T07:11:13.854Z"
   },
   {
    "duration": 43,
    "start_time": "2022-06-26T07:11:44.821Z"
   },
   {
    "duration": 31,
    "start_time": "2022-06-26T07:15:14.880Z"
   },
   {
    "duration": 3,
    "start_time": "2022-06-26T07:17:20.371Z"
   },
   {
    "duration": 15,
    "start_time": "2022-06-26T07:18:46.825Z"
   },
   {
    "duration": 4,
    "start_time": "2022-06-26T07:19:34.790Z"
   },
   {
    "duration": 8,
    "start_time": "2022-06-26T08:04:25.270Z"
   },
   {
    "duration": 11,
    "start_time": "2022-06-26T08:04:44.218Z"
   },
   {
    "duration": 4,
    "start_time": "2022-06-26T08:05:35.090Z"
   },
   {
    "duration": 6,
    "start_time": "2022-06-26T08:07:01.230Z"
   },
   {
    "duration": 4,
    "start_time": "2022-06-26T08:07:19.854Z"
   },
   {
    "duration": 444,
    "start_time": "2022-06-26T08:35:22.648Z"
   },
   {
    "duration": 593,
    "start_time": "2022-06-26T08:35:23.094Z"
   },
   {
    "duration": 77,
    "start_time": "2022-06-26T08:35:23.690Z"
   },
   {
    "duration": 102,
    "start_time": "2022-06-26T08:35:23.770Z"
   },
   {
    "duration": 7,
    "start_time": "2022-06-26T08:35:23.874Z"
   },
   {
    "duration": 64,
    "start_time": "2022-06-26T08:35:23.883Z"
   },
   {
    "duration": 20,
    "start_time": "2022-06-26T08:35:23.949Z"
   },
   {
    "duration": 7,
    "start_time": "2022-06-26T08:35:23.971Z"
   },
   {
    "duration": 99,
    "start_time": "2022-06-26T08:35:23.979Z"
   },
   {
    "duration": 76,
    "start_time": "2022-06-26T08:35:24.082Z"
   },
   {
    "duration": 96,
    "start_time": "2022-06-26T08:35:24.160Z"
   },
   {
    "duration": 200,
    "start_time": "2022-06-26T08:35:24.259Z"
   },
   {
    "duration": 193,
    "start_time": "2022-06-26T08:35:24.461Z"
   },
   {
    "duration": 116,
    "start_time": "2022-06-26T08:35:24.656Z"
   },
   {
    "duration": 91,
    "start_time": "2022-06-26T08:35:24.774Z"
   },
   {
    "duration": 3,
    "start_time": "2022-06-26T08:35:24.867Z"
   },
   {
    "duration": 14,
    "start_time": "2022-06-26T08:35:24.872Z"
   },
   {
    "duration": 102,
    "start_time": "2022-06-26T08:35:24.941Z"
   },
   {
    "duration": 19,
    "start_time": "2022-06-26T08:35:25.045Z"
   },
   {
    "duration": 78,
    "start_time": "2022-06-26T08:35:25.066Z"
   },
   {
    "duration": 5,
    "start_time": "2022-06-26T08:35:25.146Z"
   },
   {
    "duration": 25,
    "start_time": "2022-06-26T08:35:25.153Z"
   },
   {
    "duration": 70,
    "start_time": "2022-06-26T08:35:25.180Z"
   },
   {
    "duration": 23,
    "start_time": "2022-06-26T08:35:25.251Z"
   },
   {
    "duration": 76,
    "start_time": "2022-06-26T08:35:25.276Z"
   },
   {
    "duration": 25,
    "start_time": "2022-06-26T08:35:25.354Z"
   },
   {
    "duration": 66,
    "start_time": "2022-06-26T08:35:25.381Z"
   },
   {
    "duration": 192,
    "start_time": "2022-06-26T08:35:25.450Z"
   },
   {
    "duration": 11,
    "start_time": "2022-06-26T08:35:25.644Z"
   },
   {
    "duration": 13,
    "start_time": "2022-06-26T08:35:25.657Z"
   },
   {
    "duration": 8,
    "start_time": "2022-06-26T08:35:25.672Z"
   },
   {
    "duration": 71,
    "start_time": "2022-06-26T08:35:25.681Z"
   },
   {
    "duration": 13,
    "start_time": "2022-06-26T08:35:25.753Z"
   },
   {
    "duration": 75,
    "start_time": "2022-06-26T08:35:25.768Z"
   },
   {
    "duration": 12,
    "start_time": "2022-06-26T08:35:25.845Z"
   },
   {
    "duration": 8,
    "start_time": "2022-06-26T08:35:25.859Z"
   },
   {
    "duration": 13,
    "start_time": "2022-06-26T08:35:25.869Z"
   },
   {
    "duration": 12,
    "start_time": "2022-06-26T08:35:25.883Z"
   },
   {
    "duration": 10,
    "start_time": "2022-06-26T08:35:25.896Z"
   },
   {
    "duration": 6,
    "start_time": "2022-06-26T08:39:48.789Z"
   },
   {
    "duration": 21,
    "start_time": "2022-06-26T08:39:51.283Z"
   },
   {
    "duration": 5,
    "start_time": "2022-06-26T08:39:55.780Z"
   },
   {
    "duration": 36,
    "start_time": "2022-06-26T08:40:31.341Z"
   },
   {
    "duration": 448,
    "start_time": "2022-06-26T08:41:44.758Z"
   },
   {
    "duration": 180,
    "start_time": "2022-06-26T08:41:45.208Z"
   },
   {
    "duration": 23,
    "start_time": "2022-06-26T08:41:45.390Z"
   },
   {
    "duration": 44,
    "start_time": "2022-06-26T08:41:45.415Z"
   },
   {
    "duration": 4,
    "start_time": "2022-06-26T08:41:45.462Z"
   },
   {
    "duration": 10,
    "start_time": "2022-06-26T08:41:45.468Z"
   },
   {
    "duration": 18,
    "start_time": "2022-06-26T08:41:45.480Z"
   },
   {
    "duration": 7,
    "start_time": "2022-06-26T08:41:45.501Z"
   },
   {
    "duration": 72,
    "start_time": "2022-06-26T08:41:45.509Z"
   },
   {
    "duration": 24,
    "start_time": "2022-06-26T08:41:45.583Z"
   },
   {
    "duration": 49,
    "start_time": "2022-06-26T08:41:45.609Z"
   },
   {
    "duration": 68,
    "start_time": "2022-06-26T08:41:45.660Z"
   },
   {
    "duration": 98,
    "start_time": "2022-06-26T08:41:45.730Z"
   },
   {
    "duration": 73,
    "start_time": "2022-06-26T08:41:45.841Z"
   },
   {
    "duration": 50,
    "start_time": "2022-06-26T08:41:45.916Z"
   },
   {
    "duration": 4,
    "start_time": "2022-06-26T08:41:45.967Z"
   },
   {
    "duration": 13,
    "start_time": "2022-06-26T08:41:45.973Z"
   },
   {
    "duration": 55,
    "start_time": "2022-06-26T08:41:45.988Z"
   },
   {
    "duration": 34,
    "start_time": "2022-06-26T08:41:46.046Z"
   },
   {
    "duration": 23,
    "start_time": "2022-06-26T08:41:46.082Z"
   },
   {
    "duration": 6,
    "start_time": "2022-06-26T08:41:46.107Z"
   },
   {
    "duration": 39,
    "start_time": "2022-06-26T08:41:46.114Z"
   },
   {
    "duration": 16,
    "start_time": "2022-06-26T08:41:46.154Z"
   },
   {
    "duration": 29,
    "start_time": "2022-06-26T08:41:46.173Z"
   },
   {
    "duration": 17,
    "start_time": "2022-06-26T08:41:46.204Z"
   },
   {
    "duration": 34,
    "start_time": "2022-06-26T08:41:46.223Z"
   },
   {
    "duration": 16,
    "start_time": "2022-06-26T08:41:46.258Z"
   },
   {
    "duration": 94,
    "start_time": "2022-06-26T08:41:46.276Z"
   },
   {
    "duration": 14,
    "start_time": "2022-06-26T08:41:46.372Z"
   },
   {
    "duration": 13,
    "start_time": "2022-06-26T08:41:46.388Z"
   },
   {
    "duration": 6,
    "start_time": "2022-06-26T08:41:46.403Z"
   },
   {
    "duration": 54,
    "start_time": "2022-06-26T08:41:46.410Z"
   },
   {
    "duration": 12,
    "start_time": "2022-06-26T08:41:46.466Z"
   },
   {
    "duration": 18,
    "start_time": "2022-06-26T08:41:46.480Z"
   },
   {
    "duration": 13,
    "start_time": "2022-06-26T08:41:46.499Z"
   },
   {
    "duration": 34,
    "start_time": "2022-06-26T08:41:46.514Z"
   },
   {
    "duration": 5,
    "start_time": "2022-06-26T08:41:46.550Z"
   },
   {
    "duration": 8,
    "start_time": "2022-06-26T08:41:46.557Z"
   },
   {
    "duration": 7,
    "start_time": "2022-06-26T08:41:46.567Z"
   },
   {
    "duration": 72,
    "start_time": "2022-06-26T08:41:46.576Z"
   },
   {
    "duration": 406,
    "start_time": "2022-06-26T21:59:37.078Z"
   },
   {
    "duration": 185,
    "start_time": "2022-06-26T21:59:37.486Z"
   },
   {
    "duration": 15,
    "start_time": "2022-06-26T21:59:37.673Z"
   },
   {
    "duration": 25,
    "start_time": "2022-06-26T21:59:37.690Z"
   },
   {
    "duration": 3,
    "start_time": "2022-06-26T21:59:37.717Z"
   },
   {
    "duration": 7,
    "start_time": "2022-06-26T21:59:37.722Z"
   },
   {
    "duration": 22,
    "start_time": "2022-06-26T21:59:37.730Z"
   },
   {
    "duration": 7,
    "start_time": "2022-06-26T21:59:37.754Z"
   },
   {
    "duration": 44,
    "start_time": "2022-06-26T21:59:37.763Z"
   },
   {
    "duration": 17,
    "start_time": "2022-06-26T21:59:37.809Z"
   },
   {
    "duration": 59,
    "start_time": "2022-06-26T21:59:37.827Z"
   },
   {
    "duration": 69,
    "start_time": "2022-06-26T21:59:37.888Z"
   },
   {
    "duration": 66,
    "start_time": "2022-06-26T21:59:37.959Z"
   },
   {
    "duration": 64,
    "start_time": "2022-06-26T21:59:38.026Z"
   },
   {
    "duration": 32,
    "start_time": "2022-06-26T21:59:38.092Z"
   },
   {
    "duration": 3,
    "start_time": "2022-06-26T21:59:38.125Z"
   },
   {
    "duration": 34,
    "start_time": "2022-06-26T21:59:38.129Z"
   },
   {
    "duration": 45,
    "start_time": "2022-06-26T21:59:38.164Z"
   },
   {
    "duration": 15,
    "start_time": "2022-06-26T21:59:38.211Z"
   },
   {
    "duration": 13,
    "start_time": "2022-06-26T21:59:38.227Z"
   },
   {
    "duration": 11,
    "start_time": "2022-06-26T21:59:38.241Z"
   },
   {
    "duration": 21,
    "start_time": "2022-06-26T21:59:38.254Z"
   },
   {
    "duration": 12,
    "start_time": "2022-06-26T21:59:38.276Z"
   },
   {
    "duration": 13,
    "start_time": "2022-06-26T21:59:38.289Z"
   },
   {
    "duration": 11,
    "start_time": "2022-06-26T21:59:38.303Z"
   },
   {
    "duration": 36,
    "start_time": "2022-06-26T21:59:38.316Z"
   },
   {
    "duration": 13,
    "start_time": "2022-06-26T21:59:38.354Z"
   },
   {
    "duration": 56,
    "start_time": "2022-06-26T21:59:38.370Z"
   },
   {
    "duration": 25,
    "start_time": "2022-06-26T21:59:38.428Z"
   },
   {
    "duration": 9,
    "start_time": "2022-06-26T21:59:38.455Z"
   },
   {
    "duration": 21,
    "start_time": "2022-06-26T21:59:38.466Z"
   },
   {
    "duration": 21,
    "start_time": "2022-06-26T21:59:38.489Z"
   },
   {
    "duration": 10,
    "start_time": "2022-06-26T21:59:38.512Z"
   },
   {
    "duration": 14,
    "start_time": "2022-06-26T21:59:38.523Z"
   },
   {
    "duration": 20,
    "start_time": "2022-06-26T21:59:38.538Z"
   },
   {
    "duration": 7,
    "start_time": "2022-06-26T21:59:38.560Z"
   },
   {
    "duration": 4,
    "start_time": "2022-06-26T21:59:38.568Z"
   },
   {
    "duration": 8,
    "start_time": "2022-06-26T21:59:38.573Z"
   },
   {
    "duration": 8,
    "start_time": "2022-06-26T21:59:38.583Z"
   },
   {
    "duration": 30,
    "start_time": "2022-06-26T21:59:38.592Z"
   },
   {
    "duration": 23,
    "start_time": "2022-06-26T22:01:59.117Z"
   },
   {
    "duration": 357,
    "start_time": "2022-06-26T22:05:23.189Z"
   },
   {
    "duration": 142,
    "start_time": "2022-06-26T22:05:23.549Z"
   },
   {
    "duration": 17,
    "start_time": "2022-06-26T22:05:23.693Z"
   },
   {
    "duration": 26,
    "start_time": "2022-06-26T22:05:23.712Z"
   },
   {
    "duration": 4,
    "start_time": "2022-06-26T22:05:23.753Z"
   },
   {
    "duration": 33,
    "start_time": "2022-06-26T22:05:23.758Z"
   },
   {
    "duration": 23,
    "start_time": "2022-06-26T22:05:23.792Z"
   },
   {
    "duration": 7,
    "start_time": "2022-06-26T22:05:23.816Z"
   },
   {
    "duration": 40,
    "start_time": "2022-06-26T22:05:23.824Z"
   },
   {
    "duration": 17,
    "start_time": "2022-06-26T22:05:23.865Z"
   },
   {
    "duration": 38,
    "start_time": "2022-06-26T22:05:23.884Z"
   },
   {
    "duration": 80,
    "start_time": "2022-06-26T22:05:23.924Z"
   },
   {
    "duration": 80,
    "start_time": "2022-06-26T22:05:24.006Z"
   },
   {
    "duration": 52,
    "start_time": "2022-06-26T22:05:24.090Z"
   },
   {
    "duration": 35,
    "start_time": "2022-06-26T22:05:24.152Z"
   },
   {
    "duration": 3,
    "start_time": "2022-06-26T22:05:24.189Z"
   },
   {
    "duration": 19,
    "start_time": "2022-06-26T22:05:24.193Z"
   },
   {
    "duration": 41,
    "start_time": "2022-06-26T22:05:24.213Z"
   },
   {
    "duration": 15,
    "start_time": "2022-06-26T22:05:24.256Z"
   },
   {
    "duration": 21,
    "start_time": "2022-06-26T22:05:24.272Z"
   },
   {
    "duration": 13,
    "start_time": "2022-06-26T22:05:24.295Z"
   },
   {
    "duration": 3,
    "start_time": "2022-06-26T22:05:24.309Z"
   },
   {
    "duration": 41,
    "start_time": "2022-06-26T22:05:24.314Z"
   },
   {
    "duration": 13,
    "start_time": "2022-06-26T22:05:24.356Z"
   },
   {
    "duration": 13,
    "start_time": "2022-06-26T22:05:24.371Z"
   },
   {
    "duration": 12,
    "start_time": "2022-06-26T22:05:24.385Z"
   },
   {
    "duration": 15,
    "start_time": "2022-06-26T22:05:24.399Z"
   },
   {
    "duration": 48,
    "start_time": "2022-06-26T22:05:24.415Z"
   },
   {
    "duration": 63,
    "start_time": "2022-06-26T22:05:24.464Z"
   },
   {
    "duration": 26,
    "start_time": "2022-06-26T22:05:24.529Z"
   },
   {
    "duration": 9,
    "start_time": "2022-06-26T22:05:24.556Z"
   },
   {
    "duration": 4,
    "start_time": "2022-06-26T22:05:24.566Z"
   },
   {
    "duration": 31,
    "start_time": "2022-06-26T22:05:24.571Z"
   },
   {
    "duration": 13,
    "start_time": "2022-06-26T22:05:24.604Z"
   },
   {
    "duration": 33,
    "start_time": "2022-06-26T22:05:24.619Z"
   },
   {
    "duration": 12,
    "start_time": "2022-06-26T22:05:24.654Z"
   },
   {
    "duration": 9,
    "start_time": "2022-06-26T22:05:24.667Z"
   },
   {
    "duration": 5,
    "start_time": "2022-06-26T22:05:24.677Z"
   },
   {
    "duration": 6,
    "start_time": "2022-06-26T22:05:24.684Z"
   },
   {
    "duration": 9,
    "start_time": "2022-06-26T22:05:24.692Z"
   },
   {
    "duration": 60,
    "start_time": "2022-06-26T22:05:24.704Z"
   }
  ],
  "colab": {
   "collapsed_sections": [
    "E0vqbgi9ay0H",
    "VUC88oWjTJw2"
   ],
   "name": "yandex_music_project.ipynb",
   "provenance": []
  },
  "hide_input": false,
  "kernelspec": {
   "display_name": "Python 3 (ipykernel)",
   "language": "python",
   "name": "python3"
  },
  "language_info": {
   "codemirror_mode": {
    "name": "ipython",
    "version": 3
   },
   "file_extension": ".py",
   "mimetype": "text/x-python",
   "name": "python",
   "nbconvert_exporter": "python",
   "pygments_lexer": "ipython3",
   "version": "3.9.7"
  },
  "toc": {
   "base_numbering": 1,
   "nav_menu": {},
   "number_sections": true,
   "sideBar": true,
   "skip_h1_title": true,
   "title_cell": "Table of Contents",
   "title_sidebar": "Contents",
   "toc_cell": false,
   "toc_position": {},
   "toc_section_display": true,
   "toc_window_display": true
  }
 },
 "nbformat": 4,
 "nbformat_minor": 1
}
